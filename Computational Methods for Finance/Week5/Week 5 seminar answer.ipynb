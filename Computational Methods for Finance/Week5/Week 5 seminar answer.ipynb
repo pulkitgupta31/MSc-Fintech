{
 "cells": [
  {
   "cell_type": "markdown",
   "id": "0e9366b5",
   "metadata": {},
   "source": [
    "# Question 1"
   ]
  },
  {
   "cell_type": "code",
   "execution_count": 1,
   "id": "33de040b",
   "metadata": {},
   "outputs": [
    {
     "data": {
      "text/html": [
       "<div>\n",
       "<style scoped>\n",
       "    .dataframe tbody tr th:only-of-type {\n",
       "        vertical-align: middle;\n",
       "    }\n",
       "\n",
       "    .dataframe tbody tr th {\n",
       "        vertical-align: top;\n",
       "    }\n",
       "\n",
       "    .dataframe thead th {\n",
       "        text-align: right;\n",
       "    }\n",
       "</style>\n",
       "<table border=\"1\" class=\"dataframe\">\n",
       "  <thead>\n",
       "    <tr style=\"text-align: right;\">\n",
       "      <th></th>\n",
       "      <th>Date</th>\n",
       "      <th>Open</th>\n",
       "      <th>High</th>\n",
       "      <th>Low</th>\n",
       "      <th>Close</th>\n",
       "      <th>Adj Close</th>\n",
       "      <th>Volume</th>\n",
       "    </tr>\n",
       "  </thead>\n",
       "  <tbody>\n",
       "    <tr>\n",
       "      <th>0</th>\n",
       "      <td>2022-10-19</td>\n",
       "      <td>141.690002</td>\n",
       "      <td>144.949997</td>\n",
       "      <td>141.500000</td>\n",
       "      <td>143.860001</td>\n",
       "      <td>143.011612</td>\n",
       "      <td>61758300</td>\n",
       "    </tr>\n",
       "    <tr>\n",
       "      <th>1</th>\n",
       "      <td>2022-10-20</td>\n",
       "      <td>143.020004</td>\n",
       "      <td>145.889999</td>\n",
       "      <td>142.649994</td>\n",
       "      <td>143.389999</td>\n",
       "      <td>142.544373</td>\n",
       "      <td>64522000</td>\n",
       "    </tr>\n",
       "    <tr>\n",
       "      <th>2</th>\n",
       "      <td>2022-10-21</td>\n",
       "      <td>142.869995</td>\n",
       "      <td>147.850006</td>\n",
       "      <td>142.649994</td>\n",
       "      <td>147.270004</td>\n",
       "      <td>146.401505</td>\n",
       "      <td>86548600</td>\n",
       "    </tr>\n",
       "    <tr>\n",
       "      <th>3</th>\n",
       "      <td>2022-10-24</td>\n",
       "      <td>147.190002</td>\n",
       "      <td>150.229996</td>\n",
       "      <td>146.000000</td>\n",
       "      <td>149.449997</td>\n",
       "      <td>148.568649</td>\n",
       "      <td>75981900</td>\n",
       "    </tr>\n",
       "    <tr>\n",
       "      <th>4</th>\n",
       "      <td>2022-10-25</td>\n",
       "      <td>150.089996</td>\n",
       "      <td>152.490005</td>\n",
       "      <td>149.360001</td>\n",
       "      <td>152.339996</td>\n",
       "      <td>151.441574</td>\n",
       "      <td>74732300</td>\n",
       "    </tr>\n",
       "  </tbody>\n",
       "</table>\n",
       "</div>"
      ],
      "text/plain": [
       "         Date        Open        High         Low       Close   Adj Close  \\\n",
       "0  2022-10-19  141.690002  144.949997  141.500000  143.860001  143.011612   \n",
       "1  2022-10-20  143.020004  145.889999  142.649994  143.389999  142.544373   \n",
       "2  2022-10-21  142.869995  147.850006  142.649994  147.270004  146.401505   \n",
       "3  2022-10-24  147.190002  150.229996  146.000000  149.449997  148.568649   \n",
       "4  2022-10-25  150.089996  152.490005  149.360001  152.339996  151.441574   \n",
       "\n",
       "     Volume  \n",
       "0  61758300  \n",
       "1  64522000  \n",
       "2  86548600  \n",
       "3  75981900  \n",
       "4  74732300  "
      ]
     },
     "execution_count": 1,
     "metadata": {},
     "output_type": "execute_result"
    }
   ],
   "source": [
    "import pandas as pd\n",
    "df = pd.read_csv('AAPL.csv')\n",
    "df.head()"
   ]
  },
  {
   "cell_type": "code",
   "execution_count": 2,
   "id": "723d55e3",
   "metadata": {},
   "outputs": [
    {
     "data": {
      "text/html": [
       "<div>\n",
       "<style scoped>\n",
       "    .dataframe tbody tr th:only-of-type {\n",
       "        vertical-align: middle;\n",
       "    }\n",
       "\n",
       "    .dataframe tbody tr th {\n",
       "        vertical-align: top;\n",
       "    }\n",
       "\n",
       "    .dataframe thead th {\n",
       "        text-align: right;\n",
       "    }\n",
       "</style>\n",
       "<table border=\"1\" class=\"dataframe\">\n",
       "  <thead>\n",
       "    <tr style=\"text-align: right;\">\n",
       "      <th></th>\n",
       "      <th>Date</th>\n",
       "      <th>Open</th>\n",
       "      <th>High</th>\n",
       "      <th>Low</th>\n",
       "      <th>Close</th>\n",
       "      <th>Adj Close</th>\n",
       "      <th>Volume</th>\n",
       "    </tr>\n",
       "  </thead>\n",
       "  <tbody>\n",
       "    <tr>\n",
       "      <th>246</th>\n",
       "      <td>2023-10-12</td>\n",
       "      <td>180.070007</td>\n",
       "      <td>182.339996</td>\n",
       "      <td>179.039993</td>\n",
       "      <td>180.710007</td>\n",
       "      <td>180.710007</td>\n",
       "      <td>56743100</td>\n",
       "    </tr>\n",
       "    <tr>\n",
       "      <th>247</th>\n",
       "      <td>2023-10-13</td>\n",
       "      <td>181.419998</td>\n",
       "      <td>181.929993</td>\n",
       "      <td>178.139999</td>\n",
       "      <td>178.850006</td>\n",
       "      <td>178.850006</td>\n",
       "      <td>51427100</td>\n",
       "    </tr>\n",
       "    <tr>\n",
       "      <th>248</th>\n",
       "      <td>2023-10-16</td>\n",
       "      <td>176.750000</td>\n",
       "      <td>179.080002</td>\n",
       "      <td>176.509995</td>\n",
       "      <td>178.720001</td>\n",
       "      <td>178.720001</td>\n",
       "      <td>52517000</td>\n",
       "    </tr>\n",
       "    <tr>\n",
       "      <th>249</th>\n",
       "      <td>2023-10-17</td>\n",
       "      <td>176.649994</td>\n",
       "      <td>178.419998</td>\n",
       "      <td>174.800003</td>\n",
       "      <td>177.149994</td>\n",
       "      <td>177.149994</td>\n",
       "      <td>57549400</td>\n",
       "    </tr>\n",
       "    <tr>\n",
       "      <th>250</th>\n",
       "      <td>2023-10-18</td>\n",
       "      <td>175.580002</td>\n",
       "      <td>177.580002</td>\n",
       "      <td>175.110001</td>\n",
       "      <td>175.839996</td>\n",
       "      <td>175.839996</td>\n",
       "      <td>54704400</td>\n",
       "    </tr>\n",
       "  </tbody>\n",
       "</table>\n",
       "</div>"
      ],
      "text/plain": [
       "           Date        Open        High         Low       Close   Adj Close  \\\n",
       "246  2023-10-12  180.070007  182.339996  179.039993  180.710007  180.710007   \n",
       "247  2023-10-13  181.419998  181.929993  178.139999  178.850006  178.850006   \n",
       "248  2023-10-16  176.750000  179.080002  176.509995  178.720001  178.720001   \n",
       "249  2023-10-17  176.649994  178.419998  174.800003  177.149994  177.149994   \n",
       "250  2023-10-18  175.580002  177.580002  175.110001  175.839996  175.839996   \n",
       "\n",
       "       Volume  \n",
       "246  56743100  \n",
       "247  51427100  \n",
       "248  52517000  \n",
       "249  57549400  \n",
       "250  54704400  "
      ]
     },
     "execution_count": 2,
     "metadata": {},
     "output_type": "execute_result"
    }
   ],
   "source": [
    "df.tail()"
   ]
  },
  {
   "cell_type": "markdown",
   "id": "68219042",
   "metadata": {},
   "source": [
    "# Question 2"
   ]
  },
  {
   "cell_type": "code",
   "execution_count": 5,
   "id": "6a056514",
   "metadata": {},
   "outputs": [
    {
     "data": {
      "text/plain": [
       "[-0.003267140293474955,\n",
       " 0.02705916704267224,\n",
       " 0.014802744001846209,\n",
       " 0.019337356968225573,\n",
       " -0.01962694867394876]"
      ]
     },
     "execution_count": 5,
     "metadata": {},
     "output_type": "execute_result"
    }
   ],
   "source": [
    "import numpy as np\n",
    "normal_return = []\n",
    "for i in range(0,len(df)-1):\n",
    "    adjclose_yesterday = df.iloc[i]['Adj Close']\n",
    "    adjclose_today = df.iloc[i+1]['Adj Close']\n",
    "    x = (adjclose_today - adjclose_yesterday) / adjclose_yesterday\n",
    "    normal_return.append(x)\n",
    "c[:5]"
   ]
  },
  {
   "cell_type": "code",
   "execution_count": 6,
   "id": "9b3f98a5",
   "metadata": {},
   "outputs": [
    {
     "data": {
      "text/plain": [
       "[-0.0032724890495920912,\n",
       " 0.026699540818267135,\n",
       " 0.014694252722233207,\n",
       " 0.0191527661510084,\n",
       " -0.01982211513349412]"
      ]
     },
     "execution_count": 6,
     "metadata": {},
     "output_type": "execute_result"
    }
   ],
   "source": [
    "log_return = []\n",
    "for i in range(0,len(df)-1):\n",
    "    adjclose_yesterday = df.iloc[i]['Adj Close']\n",
    "    adjclose_today = df.iloc[i+1]['Adj Close']\n",
    "    y = np.log(adjclose_today / adjclose_yesterday)\n",
    "    log_return.append(y)\n",
    "log_return[:5]"
   ]
  },
  {
   "cell_type": "code",
   "execution_count": 11,
   "id": "4c292e51",
   "metadata": {},
   "outputs": [
    {
     "name": "stdout",
     "output_type": "stream",
     "text": [
      "The annulized normal return is 0.24143118 and its annulized volatility is 0.26449453\n"
     ]
    }
   ],
   "source": [
    "#Changing the list variable to numpy array:\n",
    "normal_return=np.array(normal_return)\n",
    "#calculating the mean and standard deviation using numpy:\n",
    "mean_nr = normal_return.mean() * len(normal_return)\n",
    "sd_nr = normal_return.std() * (len(normal_return) ** 0.5)\n",
    "print('The annulized normal return is %.8f and its annulized volatility is %.8f' % (mean_nr,sd_nr))"
   ]
  },
  {
   "cell_type": "code",
   "execution_count": 12,
   "id": "c5e3e1bb",
   "metadata": {},
   "outputs": [
    {
     "name": "stdout",
     "output_type": "stream",
     "text": [
      "The annulized normal return is 0.20664864 and its annulized volatility is 0.26287697\n"
     ]
    }
   ],
   "source": [
    "#Changing the list variable to numpy array:\n",
    "log_return=np.array(log_return)\n",
    "#calculating the mean and standard deviation using numpy:\n",
    "mean_logr = log_return.mean() * len(log_return)\n",
    "sd_logr = log_return.std() * (len(log_return) ** 0.5)\n",
    "print('The annulized normal return is %.8f and its annulized volatility is %.8f' % (mean_logr,sd_logr))"
   ]
  },
  {
   "cell_type": "markdown",
   "id": "6b040355",
   "metadata": {},
   "source": [
    "# Question 3"
   ]
  },
  {
   "cell_type": "code",
   "execution_count": 13,
   "id": "66d899e1",
   "metadata": {},
   "outputs": [
    {
     "data": {
      "text/plain": [
       "Text(0.5, 1.0, 'Closing Price')"
      ]
     },
     "execution_count": 13,
     "metadata": {},
     "output_type": "execute_result"
    },
    {
     "data": {
      "image/png": "[encoded data removed]",
      "text/plain": [
       "<Figure size 640x480 with 1 Axes>"
      ]
     },
     "metadata": {},
     "output_type": "display_data"
    }
   ],
   "source": [
    "import matplotlib.pyplot as plt\n",
    "fig = plt.figure()\n",
    "plt.plot(df['Close']) #choosing the series you want to plot\n",
    "plt.xlabel('Days')\n",
    "plt.ylabel('Price ($)')\n",
    "plt.title('Closing Price')"
   ]
  },
  {
   "cell_type": "markdown",
   "id": "bea6bbdb",
   "metadata": {},
   "source": [
    "# Question 4"
   ]
  },
  {
   "cell_type": "code",
   "execution_count": 16,
   "id": "222463a5",
   "metadata": {},
   "outputs": [
    {
     "data": {
      "text/plain": [
       "Text(0.5, 1.0, 'Log Return')"
      ]
     },
     "execution_count": 16,
     "metadata": {},
     "output_type": "execute_result"
    },
    {
     "data": {
      "image/png": "[encoded data removed]",
      "text/plain": [
       "<Figure size 640x480 with 1 Axes>"
      ]
     },
     "metadata": {},
     "output_type": "display_data"
    }
   ],
   "source": [
    "fig = plt.figure()\n",
    "plt.plot(log_return * 100)\n",
    "plt.xlabel('Days')\n",
    "plt.ylabel('Percentage % ')\n",
    "plt.title('Log Return')"
   ]
  },
  {
   "cell_type": "markdown",
   "id": "eee4c125",
   "metadata": {},
   "source": [
    "# Question 5"
   ]
  },
  {
   "cell_type": "code",
   "execution_count": 25,
   "id": "0b2fd7db",
   "metadata": {},
   "outputs": [
    {
     "data": {
      "text/html": [
       "<div>\n",
       "<style scoped>\n",
       "    .dataframe tbody tr th:only-of-type {\n",
       "        vertical-align: middle;\n",
       "    }\n",
       "\n",
       "    .dataframe tbody tr th {\n",
       "        vertical-align: top;\n",
       "    }\n",
       "\n",
       "    .dataframe thead th {\n",
       "        text-align: right;\n",
       "    }\n",
       "</style>\n",
       "<table border=\"1\" class=\"dataframe\">\n",
       "  <thead>\n",
       "    <tr style=\"text-align: right;\">\n",
       "      <th></th>\n",
       "      <th>Date</th>\n",
       "      <th>Open</th>\n",
       "      <th>High</th>\n",
       "      <th>Low</th>\n",
       "      <th>Close</th>\n",
       "      <th>Adj Close</th>\n",
       "      <th>Volume</th>\n",
       "    </tr>\n",
       "  </thead>\n",
       "  <tbody>\n",
       "    <tr>\n",
       "      <th>0</th>\n",
       "      <td>2022-10-19</td>\n",
       "      <td>219.800003</td>\n",
       "      <td>222.929993</td>\n",
       "      <td>217.779999</td>\n",
       "      <td>222.039993</td>\n",
       "      <td>222.039993</td>\n",
       "      <td>66571500</td>\n",
       "    </tr>\n",
       "    <tr>\n",
       "      <th>1</th>\n",
       "      <td>2022-10-20</td>\n",
       "      <td>208.279999</td>\n",
       "      <td>215.550003</td>\n",
       "      <td>202.000000</td>\n",
       "      <td>207.279999</td>\n",
       "      <td>207.279999</td>\n",
       "      <td>117798100</td>\n",
       "    </tr>\n",
       "    <tr>\n",
       "      <th>2</th>\n",
       "      <td>2022-10-21</td>\n",
       "      <td>206.419998</td>\n",
       "      <td>214.660004</td>\n",
       "      <td>203.800003</td>\n",
       "      <td>214.440002</td>\n",
       "      <td>214.440002</td>\n",
       "      <td>75713800</td>\n",
       "    </tr>\n",
       "    <tr>\n",
       "      <th>3</th>\n",
       "      <td>2022-10-24</td>\n",
       "      <td>205.820007</td>\n",
       "      <td>213.500000</td>\n",
       "      <td>198.589996</td>\n",
       "      <td>211.250000</td>\n",
       "      <td>211.250000</td>\n",
       "      <td>100446800</td>\n",
       "    </tr>\n",
       "    <tr>\n",
       "      <th>4</th>\n",
       "      <td>2022-10-25</td>\n",
       "      <td>210.100006</td>\n",
       "      <td>224.350006</td>\n",
       "      <td>210.000000</td>\n",
       "      <td>222.419998</td>\n",
       "      <td>222.419998</td>\n",
       "      <td>96507900</td>\n",
       "    </tr>\n",
       "  </tbody>\n",
       "</table>\n",
       "</div>"
      ],
      "text/plain": [
       "         Date        Open        High         Low       Close   Adj Close  \\\n",
       "0  2022-10-19  219.800003  222.929993  217.779999  222.039993  222.039993   \n",
       "1  2022-10-20  208.279999  215.550003  202.000000  207.279999  207.279999   \n",
       "2  2022-10-21  206.419998  214.660004  203.800003  214.440002  214.440002   \n",
       "3  2022-10-24  205.820007  213.500000  198.589996  211.250000  211.250000   \n",
       "4  2022-10-25  210.100006  224.350006  210.000000  222.419998  222.419998   \n",
       "\n",
       "      Volume  \n",
       "0   66571500  \n",
       "1  117798100  \n",
       "2   75713800  \n",
       "3  100446800  \n",
       "4   96507900  "
      ]
     },
     "execution_count": 25,
     "metadata": {},
     "output_type": "execute_result"
    }
   ],
   "source": [
    "df1 = pd.read_csv('TSLA.csv')\n",
    "df2=pd.read_csv('AMZN.csv')\n",
    "df3=pd.read_csv('BLK.csv')\n",
    "df1.head()"
   ]
  },
  {
   "cell_type": "code",
   "execution_count": 47,
   "id": "d91cfe96",
   "metadata": {},
   "outputs": [
    {
     "data": {
      "text/plain": [
       "0    222.039993\n",
       "1    207.279999\n",
       "2    214.440002\n",
       "3    211.250000\n",
       "4    222.419998\n",
       "Name: Adj Close, dtype: float64"
      ]
     },
     "execution_count": 47,
     "metadata": {},
     "output_type": "execute_result"
    }
   ],
   "source": [
    "closeP1=df1['Adj Close']\n",
    "closeP2=df2['Adj Close']\n",
    "closeP3=df3['Adj Close']\n",
    "closeP1.head()"
   ]
  },
  {
   "cell_type": "code",
   "execution_count": 49,
   "id": "e66f6502",
   "metadata": {},
   "outputs": [
    {
     "data": {
      "text/plain": [
       "0    222.039993\n",
       "1    207.279999\n",
       "2    214.440002\n",
       "3    211.250000\n",
       "4    222.419998\n",
       "Name: closeP_TSLA, dtype: float64"
      ]
     },
     "execution_count": 49,
     "metadata": {},
     "output_type": "execute_result"
    }
   ],
   "source": [
    "closeP1=closeP1.rename(\"closeP_TSLA\") # you can use either single or double quotes. \n",
    "closeP2=closeP2.rename(\"closeP_AMZN\") #If your string contains a single quote, then you must use double quotes.\n",
    "closeP3=closeP3.rename(\"closeP_BLK\")\n",
    "closeP1.head()"
   ]
  },
  {
   "cell_type": "code",
   "execution_count": 50,
   "id": "c8a5ca3e",
   "metadata": {},
   "outputs": [
    {
     "data": {
      "text/html": [
       "<div>\n",
       "<style scoped>\n",
       "    .dataframe tbody tr th:only-of-type {\n",
       "        vertical-align: middle;\n",
       "    }\n",
       "\n",
       "    .dataframe tbody tr th {\n",
       "        vertical-align: top;\n",
       "    }\n",
       "\n",
       "    .dataframe thead th {\n",
       "        text-align: right;\n",
       "    }\n",
       "</style>\n",
       "<table border=\"1\" class=\"dataframe\">\n",
       "  <thead>\n",
       "    <tr style=\"text-align: right;\">\n",
       "      <th></th>\n",
       "      <th>closeP_TSLA</th>\n",
       "      <th>closeP_AMZN</th>\n",
       "      <th>closeP_BLK</th>\n",
       "    </tr>\n",
       "  </thead>\n",
       "  <tbody>\n",
       "    <tr>\n",
       "      <th>0</th>\n",
       "      <td>222.039993</td>\n",
       "      <td>115.070000</td>\n",
       "      <td>561.581665</td>\n",
       "    </tr>\n",
       "    <tr>\n",
       "      <th>1</th>\n",
       "      <td>207.279999</td>\n",
       "      <td>115.250000</td>\n",
       "      <td>556.198059</td>\n",
       "    </tr>\n",
       "    <tr>\n",
       "      <th>2</th>\n",
       "      <td>214.440002</td>\n",
       "      <td>119.320000</td>\n",
       "      <td>580.395020</td>\n",
       "    </tr>\n",
       "    <tr>\n",
       "      <th>3</th>\n",
       "      <td>211.250000</td>\n",
       "      <td>119.820000</td>\n",
       "      <td>594.174561</td>\n",
       "    </tr>\n",
       "    <tr>\n",
       "      <th>4</th>\n",
       "      <td>222.419998</td>\n",
       "      <td>120.599998</td>\n",
       "      <td>617.982849</td>\n",
       "    </tr>\n",
       "  </tbody>\n",
       "</table>\n",
       "</div>"
      ],
      "text/plain": [
       "   closeP_TSLA  closeP_AMZN  closeP_BLK\n",
       "0   222.039993   115.070000  561.581665\n",
       "1   207.279999   115.250000  556.198059\n",
       "2   214.440002   119.320000  580.395020\n",
       "3   211.250000   119.820000  594.174561\n",
       "4   222.419998   120.599998  617.982849"
      ]
     },
     "execution_count": 50,
     "metadata": {},
     "output_type": "execute_result"
    }
   ],
   "source": [
    "df_all=pd.concat([closeP1, closeP2, closeP3], axis=1)\n",
    "df_all.head()"
   ]
  },
  {
   "cell_type": "code",
   "execution_count": 52,
   "id": "f31a678d",
   "metadata": {},
   "outputs": [
    {
     "data": {
      "text/html": [
       "<div>\n",
       "<style scoped>\n",
       "    .dataframe tbody tr th:only-of-type {\n",
       "        vertical-align: middle;\n",
       "    }\n",
       "\n",
       "    .dataframe tbody tr th {\n",
       "        vertical-align: top;\n",
       "    }\n",
       "\n",
       "    .dataframe thead th {\n",
       "        text-align: right;\n",
       "    }\n",
       "</style>\n",
       "<table border=\"1\" class=\"dataframe\">\n",
       "  <thead>\n",
       "    <tr style=\"text-align: right;\">\n",
       "      <th></th>\n",
       "      <th>closeP_TSLA</th>\n",
       "      <th>closeP_AMZN</th>\n",
       "      <th>closeP_BLK</th>\n",
       "    </tr>\n",
       "  </thead>\n",
       "  <tbody>\n",
       "    <tr>\n",
       "      <th>0</th>\n",
       "      <td>1.686928</td>\n",
       "      <td>1.557205</td>\n",
       "      <td>1.845420</td>\n",
       "    </tr>\n",
       "    <tr>\n",
       "      <th>1</th>\n",
       "      <td>1.674115</td>\n",
       "      <td>1.557535</td>\n",
       "      <td>1.843897</td>\n",
       "    </tr>\n",
       "    <tr>\n",
       "      <th>2</th>\n",
       "      <td>1.680461</td>\n",
       "      <td>1.564819</td>\n",
       "      <td>1.850611</td>\n",
       "    </tr>\n",
       "    <tr>\n",
       "      <th>3</th>\n",
       "      <td>1.677665</td>\n",
       "      <td>1.565693</td>\n",
       "      <td>1.854292</td>\n",
       "    </tr>\n",
       "    <tr>\n",
       "      <th>4</th>\n",
       "      <td>1.687244</td>\n",
       "      <td>1.567048</td>\n",
       "      <td>1.860424</td>\n",
       "    </tr>\n",
       "  </tbody>\n",
       "</table>\n",
       "</div>"
      ],
      "text/plain": [
       "   closeP_TSLA  closeP_AMZN  closeP_BLK\n",
       "0     1.686928     1.557205    1.845420\n",
       "1     1.674115     1.557535    1.843897\n",
       "2     1.680461     1.564819    1.850611\n",
       "3     1.677665     1.565693    1.854292\n",
       "4     1.687244     1.567048    1.860424"
      ]
     },
     "execution_count": 52,
     "metadata": {},
     "output_type": "execute_result"
    }
   ],
   "source": [
    "df_all=np.log(df_all)\n",
    "df_all.head()"
   ]
  },
  {
   "cell_type": "code",
   "execution_count": 57,
   "id": "470b433c",
   "metadata": {},
   "outputs": [
    {
     "data": {
      "text/html": [
       "<div>\n",
       "<style scoped>\n",
       "    .dataframe tbody tr th:only-of-type {\n",
       "        vertical-align: middle;\n",
       "    }\n",
       "\n",
       "    .dataframe tbody tr th {\n",
       "        vertical-align: top;\n",
       "    }\n",
       "\n",
       "    .dataframe thead th {\n",
       "        text-align: right;\n",
       "    }\n",
       "</style>\n",
       "<table border=\"1\" class=\"dataframe\">\n",
       "  <thead>\n",
       "    <tr style=\"text-align: right;\">\n",
       "      <th></th>\n",
       "      <th>closeP_TSLA</th>\n",
       "      <th>closeP_AMZN</th>\n",
       "      <th>closeP_BLK</th>\n",
       "      <th>logR_TSLA</th>\n",
       "      <th>logR_AMZN</th>\n",
       "      <th>logR_BLK</th>\n",
       "    </tr>\n",
       "  </thead>\n",
       "  <tbody>\n",
       "    <tr>\n",
       "      <th>0</th>\n",
       "      <td>1.686928</td>\n",
       "      <td>1.557205</td>\n",
       "      <td>1.845420</td>\n",
       "      <td>NaN</td>\n",
       "      <td>NaN</td>\n",
       "      <td>NaN</td>\n",
       "    </tr>\n",
       "    <tr>\n",
       "      <th>1</th>\n",
       "      <td>1.674115</td>\n",
       "      <td>1.557535</td>\n",
       "      <td>1.843897</td>\n",
       "      <td>-0.012813</td>\n",
       "      <td>0.000329</td>\n",
       "      <td>-0.001523</td>\n",
       "    </tr>\n",
       "    <tr>\n",
       "      <th>2</th>\n",
       "      <td>1.680461</td>\n",
       "      <td>1.564819</td>\n",
       "      <td>1.850611</td>\n",
       "      <td>0.006346</td>\n",
       "      <td>0.007284</td>\n",
       "      <td>0.006714</td>\n",
       "    </tr>\n",
       "    <tr>\n",
       "      <th>3</th>\n",
       "      <td>1.677665</td>\n",
       "      <td>1.565693</td>\n",
       "      <td>1.854292</td>\n",
       "      <td>-0.002796</td>\n",
       "      <td>0.000874</td>\n",
       "      <td>0.003680</td>\n",
       "    </tr>\n",
       "    <tr>\n",
       "      <th>4</th>\n",
       "      <td>1.687244</td>\n",
       "      <td>1.567048</td>\n",
       "      <td>1.860424</td>\n",
       "      <td>0.009579</td>\n",
       "      <td>0.001355</td>\n",
       "      <td>0.006132</td>\n",
       "    </tr>\n",
       "  </tbody>\n",
       "</table>\n",
       "</div>"
      ],
      "text/plain": [
       "   closeP_TSLA  closeP_AMZN  closeP_BLK  logR_TSLA  logR_AMZN  logR_BLK\n",
       "0     1.686928     1.557205    1.845420        NaN        NaN       NaN\n",
       "1     1.674115     1.557535    1.843897  -0.012813   0.000329 -0.001523\n",
       "2     1.680461     1.564819    1.850611   0.006346   0.007284  0.006714\n",
       "3     1.677665     1.565693    1.854292  -0.002796   0.000874  0.003680\n",
       "4     1.687244     1.567048    1.860424   0.009579   0.001355  0.006132"
      ]
     },
     "execution_count": 57,
     "metadata": {},
     "output_type": "execute_result"
    }
   ],
   "source": [
    "df_all[\"logR_TSLA\"]=df_all[\"closeP_TSLA\"]-df_all[\"closeP_TSLA\"].shift(periods=1)\n",
    "df_all[\"logR_AMZN\"]=df_all[\"closeP_AMZN\"]-df_all[\"closeP_AMZN\"].shift(periods=1)\n",
    "df_all[\"logR_BLK\"]=df_all[\"closeP_BLK\"]-df_all[\"closeP_BLK\"].shift(periods=1)\n",
    "df_all.head()"
   ]
  },
  {
   "cell_type": "code",
   "execution_count": 58,
   "id": "a332d7fe",
   "metadata": {},
   "outputs": [
    {
     "data": {
      "text/html": [
       "<div>\n",
       "<style scoped>\n",
       "    .dataframe tbody tr th:only-of-type {\n",
       "        vertical-align: middle;\n",
       "    }\n",
       "\n",
       "    .dataframe tbody tr th {\n",
       "        vertical-align: top;\n",
       "    }\n",
       "\n",
       "    .dataframe thead th {\n",
       "        text-align: right;\n",
       "    }\n",
       "</style>\n",
       "<table border=\"1\" class=\"dataframe\">\n",
       "  <thead>\n",
       "    <tr style=\"text-align: right;\">\n",
       "      <th></th>\n",
       "      <th>closeP_TSLA</th>\n",
       "      <th>closeP_AMZN</th>\n",
       "      <th>closeP_BLK</th>\n",
       "      <th>logR_TSLA</th>\n",
       "      <th>logR_AMZN</th>\n",
       "      <th>logR_BLK</th>\n",
       "      <th>diff_TSLA_BLK</th>\n",
       "      <th>diff_AMZN_BLK</th>\n",
       "    </tr>\n",
       "  </thead>\n",
       "  <tbody>\n",
       "    <tr>\n",
       "      <th>0</th>\n",
       "      <td>1.686928</td>\n",
       "      <td>1.557205</td>\n",
       "      <td>1.845420</td>\n",
       "      <td>NaN</td>\n",
       "      <td>NaN</td>\n",
       "      <td>NaN</td>\n",
       "      <td>NaN</td>\n",
       "      <td>NaN</td>\n",
       "    </tr>\n",
       "    <tr>\n",
       "      <th>1</th>\n",
       "      <td>1.674115</td>\n",
       "      <td>1.557535</td>\n",
       "      <td>1.843897</td>\n",
       "      <td>-0.012813</td>\n",
       "      <td>0.000329</td>\n",
       "      <td>-0.001523</td>\n",
       "      <td>-0.011291</td>\n",
       "      <td>0.001852</td>\n",
       "    </tr>\n",
       "    <tr>\n",
       "      <th>2</th>\n",
       "      <td>1.680461</td>\n",
       "      <td>1.564819</td>\n",
       "      <td>1.850611</td>\n",
       "      <td>0.006346</td>\n",
       "      <td>0.007284</td>\n",
       "      <td>0.006714</td>\n",
       "      <td>-0.000368</td>\n",
       "      <td>0.000570</td>\n",
       "    </tr>\n",
       "    <tr>\n",
       "      <th>3</th>\n",
       "      <td>1.677665</td>\n",
       "      <td>1.565693</td>\n",
       "      <td>1.854292</td>\n",
       "      <td>-0.002796</td>\n",
       "      <td>0.000874</td>\n",
       "      <td>0.003680</td>\n",
       "      <td>-0.006476</td>\n",
       "      <td>-0.002806</td>\n",
       "    </tr>\n",
       "    <tr>\n",
       "      <th>4</th>\n",
       "      <td>1.687244</td>\n",
       "      <td>1.567048</td>\n",
       "      <td>1.860424</td>\n",
       "      <td>0.009579</td>\n",
       "      <td>0.001355</td>\n",
       "      <td>0.006132</td>\n",
       "      <td>0.003447</td>\n",
       "      <td>-0.004777</td>\n",
       "    </tr>\n",
       "  </tbody>\n",
       "</table>\n",
       "</div>"
      ],
      "text/plain": [
       "   closeP_TSLA  closeP_AMZN  closeP_BLK  logR_TSLA  logR_AMZN  logR_BLK  \\\n",
       "0     1.686928     1.557205    1.845420        NaN        NaN       NaN   \n",
       "1     1.674115     1.557535    1.843897  -0.012813   0.000329 -0.001523   \n",
       "2     1.680461     1.564819    1.850611   0.006346   0.007284  0.006714   \n",
       "3     1.677665     1.565693    1.854292  -0.002796   0.000874  0.003680   \n",
       "4     1.687244     1.567048    1.860424   0.009579   0.001355  0.006132   \n",
       "\n",
       "   diff_TSLA_BLK  diff_AMZN_BLK  \n",
       "0            NaN            NaN  \n",
       "1      -0.011291       0.001852  \n",
       "2      -0.000368       0.000570  \n",
       "3      -0.006476      -0.002806  \n",
       "4       0.003447      -0.004777  "
      ]
     },
     "execution_count": 58,
     "metadata": {},
     "output_type": "execute_result"
    }
   ],
   "source": [
    "df_all[\"diff_TSLA_BLK\"]=df_all[\"logR_TSLA\"]-df_all[\"logR_BLK\"]\n",
    "df_all[\"diff_AMZN_BLK\"]=df_all[\"logR_AMZN\"]-df_all[\"logR_BLK\"]\n",
    "df_all.head()"
   ]
  },
  {
   "cell_type": "code",
   "execution_count": 64,
   "id": "85cdd63a",
   "metadata": {},
   "outputs": [
    {
     "data": {
      "text/plain": [
       "diff_TSLA_BLK    0.000007\n",
       "diff_AMZN_BLK    0.000031\n",
       "dtype: float64"
      ]
     },
     "execution_count": 64,
     "metadata": {},
     "output_type": "execute_result"
    }
   ],
   "source": [
    "df_all.iloc[:,6:].mean()"
   ]
  }
 ],
 "metadata": {
  "kernelspec": {
   "display_name": "Python 3 (ipykernel)",
   "language": "python",
   "name": "python3"
  },
  "language_info": {
   "codemirror_mode": {
    "name": "ipython",
    "version": 3
   },
   "file_extension": ".py",
   "mimetype": "text/x-python",
   "name": "python",
   "nbconvert_exporter": "python",
   "pygments_lexer": "ipython3",
   "version": "3.11.4"
  }
 },
 "nbformat": 4,
 "nbformat_minor": 5
}
