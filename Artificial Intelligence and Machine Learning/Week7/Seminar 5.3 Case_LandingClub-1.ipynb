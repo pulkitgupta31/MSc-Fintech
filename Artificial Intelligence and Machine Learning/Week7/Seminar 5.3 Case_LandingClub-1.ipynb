{
 "cells": [
  {
   "cell_type": "markdown",
   "metadata": {
    "_cell_guid": "1e8676bb-b153-45c9-a4ab-13b883e8e896",
    "_uuid": "90e7167782a3bdb675b5b6c581ec99d6920c8939"
   },
   "source": [
    "# Predicting LendingClub Loan Status"
   ]
  },
  {
   "cell_type": "markdown",
   "metadata": {},
   "source": [
    "\n",
    "[LendingClub](https://www.lendingclub.com/) is a US peer-to-peer lending company and the world's largest peer-to-peer lending platform. In this project, we build machine learning models to predict the probability that a loan on LendingClub will charge off (kind of default). These models could help LendingClub investors make better-informed investment decisions.\n",
    "\n",
    "A charge-off or chargeoff is the declaration by a creditor (usually a credit card account) that an amount of debt is unlikely to be collected. This occurs when a consumer becomes severely delinquent on a debt. Traditionally, creditors will make this declaration at the point of six months without payment. A charge-off is a form of write-off. \n",
    "\n",
    "In training the models, we only use features that are known to investors before they choose to invest in the loan."
   ]
  },
  {
   "cell_type": "markdown",
   "metadata": {
    "_cell_guid": "b018242b-b3c5-4245-b5d7-ea6a3f28d4c8",
    "_uuid": "2053f9b0b897cad21155cca0a00c537bfd1bb340"
   },
   "source": [
    "# Import the Data"
   ]
  },
  {
   "cell_type": "code",
   "execution_count": 2,
   "metadata": {
    "ExecuteTime": {
     "end_time": "2023-09-07T18:44:34.293877Z",
     "start_time": "2023-09-07T18:44:24.271167Z"
    },
    "_cell_guid": "d237539e-2aa1-438e-a2c6-39a48c47211c",
    "_uuid": "3a39bcc870d823d4923c7ec9d8acb62c733bebaa"
   },
   "outputs": [],
   "source": [
    "import numpy as np\n",
    "import pandas as pd\n",
    "import matplotlib.pyplot as plt\n",
    "import seaborn as sns"
   ]
  },
  {
   "cell_type": "code",
   "execution_count": 3,
   "metadata": {
    "ExecuteTime": {
     "end_time": "2023-09-07T18:44:34.309053Z",
     "start_time": "2023-09-07T18:44:34.298869Z"
    }
   },
   "outputs": [],
   "source": [
    "pd.options.mode.chained_assignment = None \n",
    "# Close the waring about \"A value is trying to be set on a copy of a slice from a DataFrame\""
   ]
  },
  {
   "cell_type": "code",
   "execution_count": 4,
   "metadata": {
    "ExecuteTime": {
     "end_time": "2023-09-07T18:44:35.045685Z",
     "start_time": "2023-09-07T18:44:34.316035Z"
    }
   },
   "outputs": [
    {
     "data": {
      "text/html": [
       "<div>\n",
       "<style scoped>\n",
       "    .dataframe tbody tr th:only-of-type {\n",
       "        vertical-align: middle;\n",
       "    }\n",
       "\n",
       "    .dataframe tbody tr th {\n",
       "        vertical-align: top;\n",
       "    }\n",
       "\n",
       "    .dataframe thead th {\n",
       "        text-align: right;\n",
       "    }\n",
       "</style>\n",
       "<table border=\"1\" class=\"dataframe\">\n",
       "  <thead>\n",
       "    <tr style=\"text-align: right;\">\n",
       "      <th></th>\n",
       "      <th>loan_amnt</th>\n",
       "      <th>int_rate</th>\n",
       "      <th>installment</th>\n",
       "      <th>emp_length</th>\n",
       "      <th>dti</th>\n",
       "      <th>log_annual_inc</th>\n",
       "      <th>log_revol_bal</th>\n",
       "      <th>charged_off</th>\n",
       "    </tr>\n",
       "  </thead>\n",
       "  <tbody>\n",
       "    <tr>\n",
       "      <th>0</th>\n",
       "      <td>5000.0</td>\n",
       "      <td>10.65</td>\n",
       "      <td>162.87</td>\n",
       "      <td>10.0</td>\n",
       "      <td>27.65</td>\n",
       "      <td>4.380229</td>\n",
       "      <td>4.135101</td>\n",
       "      <td>False</td>\n",
       "    </tr>\n",
       "    <tr>\n",
       "      <th>1</th>\n",
       "      <td>2500.0</td>\n",
       "      <td>15.27</td>\n",
       "      <td>59.83</td>\n",
       "      <td>0.0</td>\n",
       "      <td>1.00</td>\n",
       "      <td>4.477136</td>\n",
       "      <td>3.227372</td>\n",
       "      <td>True</td>\n",
       "    </tr>\n",
       "    <tr>\n",
       "      <th>2</th>\n",
       "      <td>2400.0</td>\n",
       "      <td>15.96</td>\n",
       "      <td>84.33</td>\n",
       "      <td>10.0</td>\n",
       "      <td>8.72</td>\n",
       "      <td>4.088242</td>\n",
       "      <td>3.470851</td>\n",
       "      <td>False</td>\n",
       "    </tr>\n",
       "    <tr>\n",
       "      <th>3</th>\n",
       "      <td>10000.0</td>\n",
       "      <td>13.49</td>\n",
       "      <td>339.31</td>\n",
       "      <td>10.0</td>\n",
       "      <td>20.00</td>\n",
       "      <td>4.691974</td>\n",
       "      <td>3.748110</td>\n",
       "      <td>False</td>\n",
       "    </tr>\n",
       "    <tr>\n",
       "      <th>4</th>\n",
       "      <td>5000.0</td>\n",
       "      <td>7.90</td>\n",
       "      <td>156.46</td>\n",
       "      <td>3.0</td>\n",
       "      <td>11.20</td>\n",
       "      <td>4.556315</td>\n",
       "      <td>3.901131</td>\n",
       "      <td>False</td>\n",
       "    </tr>\n",
       "  </tbody>\n",
       "</table>\n",
       "</div>"
      ],
      "text/plain": [
       "   loan_amnt  int_rate  installment  emp_length    dti  log_annual_inc  \\\n",
       "0     5000.0     10.65       162.87        10.0  27.65        4.380229   \n",
       "1     2500.0     15.27        59.83         0.0   1.00        4.477136   \n",
       "2     2400.0     15.96        84.33        10.0   8.72        4.088242   \n",
       "3    10000.0     13.49       339.31        10.0  20.00        4.691974   \n",
       "4     5000.0      7.90       156.46         3.0  11.20        4.556315   \n",
       "\n",
       "   log_revol_bal  charged_off  \n",
       "0       4.135101        False  \n",
       "1       3.227372         True  \n",
       "2       3.470851        False  \n",
       "3       3.748110        False  \n",
       "4       3.901131        False  "
      ]
     },
     "execution_count": 4,
     "metadata": {},
     "output_type": "execute_result"
    }
   ],
   "source": [
    "loans = pd.read_csv('loans_num.csv')\n",
    "loans.head()"
   ]
  },
  {
   "cell_type": "code",
   "execution_count": 5,
   "metadata": {
    "ExecuteTime": {
     "end_time": "2023-09-07T18:44:35.061441Z",
     "start_time": "2023-09-07T18:44:35.049677Z"
    },
    "_cell_guid": "be5c5ad3-f002-48f3-9695-3a80a1539c1b",
    "_uuid": "c71ee5ec2f8dc3d8297a7eea7eef441f27c51317"
   },
   "outputs": [
    {
     "data": {
      "text/plain": [
       "(243074, 8)"
      ]
     },
     "execution_count": 5,
     "metadata": {},
     "output_type": "execute_result"
    }
   ],
   "source": [
    "loans.shape"
   ]
  },
  {
   "cell_type": "code",
   "execution_count": 6,
   "metadata": {
    "ExecuteTime": {
     "end_time": "2023-09-07T18:44:35.485224Z",
     "start_time": "2023-09-07T18:44:35.068420Z"
    }
   },
   "outputs": [
    {
     "data": {
      "text/html": [
       "<div>\n",
       "<style scoped>\n",
       "    .dataframe tbody tr th:only-of-type {\n",
       "        vertical-align: middle;\n",
       "    }\n",
       "\n",
       "    .dataframe tbody tr th {\n",
       "        vertical-align: top;\n",
       "    }\n",
       "\n",
       "    .dataframe thead th {\n",
       "        text-align: right;\n",
       "    }\n",
       "</style>\n",
       "<table border=\"1\" class=\"dataframe\">\n",
       "  <thead>\n",
       "    <tr style=\"text-align: right;\">\n",
       "      <th></th>\n",
       "      <th>loan_amnt</th>\n",
       "      <th>int_rate</th>\n",
       "      <th>installment</th>\n",
       "      <th>emp_length</th>\n",
       "      <th>dti</th>\n",
       "      <th>log_annual_inc</th>\n",
       "      <th>log_revol_bal</th>\n",
       "    </tr>\n",
       "  </thead>\n",
       "  <tbody>\n",
       "    <tr>\n",
       "      <th>count</th>\n",
       "      <td>243074.000000</td>\n",
       "      <td>243074.000000</td>\n",
       "      <td>243074.000000</td>\n",
       "      <td>243074.000000</td>\n",
       "      <td>243074.000000</td>\n",
       "      <td>243074.000000</td>\n",
       "      <td>243074.000000</td>\n",
       "    </tr>\n",
       "    <tr>\n",
       "      <th>mean</th>\n",
       "      <td>13677.345273</td>\n",
       "      <td>13.762363</td>\n",
       "      <td>421.238995</td>\n",
       "      <td>5.829579</td>\n",
       "      <td>16.500254</td>\n",
       "      <td>4.805452</td>\n",
       "      <td>3.971718</td>\n",
       "    </tr>\n",
       "    <tr>\n",
       "      <th>std</th>\n",
       "      <td>8144.728814</td>\n",
       "      <td>4.403093</td>\n",
       "      <td>245.291980</td>\n",
       "      <td>3.621042</td>\n",
       "      <td>7.761498</td>\n",
       "      <td>0.221326</td>\n",
       "      <td>0.559002</td>\n",
       "    </tr>\n",
       "    <tr>\n",
       "      <th>min</th>\n",
       "      <td>500.000000</td>\n",
       "      <td>5.320000</td>\n",
       "      <td>15.690000</td>\n",
       "      <td>0.000000</td>\n",
       "      <td>0.000000</td>\n",
       "      <td>3.602169</td>\n",
       "      <td>0.000000</td>\n",
       "    </tr>\n",
       "    <tr>\n",
       "      <th>25%</th>\n",
       "      <td>7500.000000</td>\n",
       "      <td>10.740000</td>\n",
       "      <td>243.237500</td>\n",
       "      <td>2.000000</td>\n",
       "      <td>10.740000</td>\n",
       "      <td>4.653222</td>\n",
       "      <td>3.772395</td>\n",
       "    </tr>\n",
       "    <tr>\n",
       "      <th>50%</th>\n",
       "      <td>12000.000000</td>\n",
       "      <td>13.530000</td>\n",
       "      <td>368.450000</td>\n",
       "      <td>6.000000</td>\n",
       "      <td>16.155000</td>\n",
       "      <td>4.799347</td>\n",
       "      <td>4.042536</td>\n",
       "    </tr>\n",
       "    <tr>\n",
       "      <th>75%</th>\n",
       "      <td>18600.000000</td>\n",
       "      <td>16.550000</td>\n",
       "      <td>550.230000</td>\n",
       "      <td>10.000000</td>\n",
       "      <td>21.920000</td>\n",
       "      <td>4.948418</td>\n",
       "      <td>4.283137</td>\n",
       "    </tr>\n",
       "    <tr>\n",
       "      <th>max</th>\n",
       "      <td>35000.000000</td>\n",
       "      <td>28.990000</td>\n",
       "      <td>1424.570000</td>\n",
       "      <td>10.000000</td>\n",
       "      <td>57.140000</td>\n",
       "      <td>6.939848</td>\n",
       "      <td>6.242223</td>\n",
       "    </tr>\n",
       "  </tbody>\n",
       "</table>\n",
       "</div>"
      ],
      "text/plain": [
       "           loan_amnt       int_rate    installment     emp_length  \\\n",
       "count  243074.000000  243074.000000  243074.000000  243074.000000   \n",
       "mean    13677.345273      13.762363     421.238995       5.829579   \n",
       "std      8144.728814       4.403093     245.291980       3.621042   \n",
       "min       500.000000       5.320000      15.690000       0.000000   \n",
       "25%      7500.000000      10.740000     243.237500       2.000000   \n",
       "50%     12000.000000      13.530000     368.450000       6.000000   \n",
       "75%     18600.000000      16.550000     550.230000      10.000000   \n",
       "max     35000.000000      28.990000    1424.570000      10.000000   \n",
       "\n",
       "                 dti  log_annual_inc  log_revol_bal  \n",
       "count  243074.000000   243074.000000  243074.000000  \n",
       "mean       16.500254        4.805452       3.971718  \n",
       "std         7.761498        0.221326       0.559002  \n",
       "min         0.000000        3.602169       0.000000  \n",
       "25%        10.740000        4.653222       3.772395  \n",
       "50%        16.155000        4.799347       4.042536  \n",
       "75%        21.920000        4.948418       4.283137  \n",
       "max        57.140000        6.939848       6.242223  "
      ]
     },
     "execution_count": 6,
     "metadata": {},
     "output_type": "execute_result"
    }
   ],
   "source": [
    "loans.describe()"
   ]
  },
  {
   "cell_type": "code",
   "execution_count": 7,
   "metadata": {
    "ExecuteTime": {
     "end_time": "2023-09-07T18:44:35.501185Z",
     "start_time": "2023-09-07T18:44:35.488218Z"
    },
    "_cell_guid": "d5b467af-c5a1-4ae0-a044-3a421252eb78",
    "_uuid": "84e9c41ee08246a83bc6f8ad04a90c83a1bf408e"
   },
   "outputs": [
    {
     "data": {
      "text/plain": [
       "False    200351\n",
       "True      42723\n",
       "Name: charged_off, dtype: int64"
      ]
     },
     "execution_count": 7,
     "metadata": {},
     "output_type": "execute_result"
    }
   ],
   "source": [
    "loans['charged_off'].value_counts()"
   ]
  },
  {
   "cell_type": "code",
   "execution_count": null,
   "metadata": {},
   "outputs": [],
   "source": []
  }
 ],
 "metadata": {
  "hide_input": false,
  "kernelspec": {
   "display_name": "Python 3 (ipykernel)",
   "language": "python",
   "name": "python3"
  },
  "language_info": {
   "codemirror_mode": {
    "name": "ipython",
    "version": 3
   },
   "file_extension": ".py",
   "mimetype": "text/x-python",
   "name": "python",
   "nbconvert_exporter": "python",
   "pygments_lexer": "ipython3",
   "version": "3.9.13"
  },
  "latex_envs": {
   "LaTeX_envs_menu_present": true,
   "autoclose": false,
   "autocomplete": true,
   "bibliofile": "biblio.bib",
   "cite_by": "apalike",
   "current_citInitial": 1,
   "eqLabelWithNumbers": true,
   "eqNumInitial": 1,
   "hotkeys": {
    "equation": "Ctrl-E",
    "itemize": "Ctrl-I"
   },
   "labels_anchors": false,
   "latex_user_defs": false,
   "report_style_numbering": false,
   "user_envs_cfg": false
  },
  "toc": {
   "base_numbering": 1,
   "nav_menu": {},
   "number_sections": true,
   "sideBar": true,
   "skip_h1_title": false,
   "title_cell": "Table of Contents",
   "title_sidebar": "Contents",
   "toc_cell": false,
   "toc_position": {
    "height": "calc(100% - 180px)",
    "left": "10px",
    "top": "150px",
    "width": "230.188px"
   },
   "toc_section_display": true,
   "toc_window_display": true
  },
  "varInspector": {
   "cols": {
    "lenName": 16,
    "lenType": 16,
    "lenVar": 40
   },
   "kernels_config": {
    "python": {
     "delete_cmd_postfix": "",
     "delete_cmd_prefix": "del ",
     "library": "var_list.py",
     "varRefreshCmd": "print(var_dic_list())"
    },
    "r": {
     "delete_cmd_postfix": ") ",
     "delete_cmd_prefix": "rm(",
     "library": "var_list.r",
     "varRefreshCmd": "cat(var_dic_list()) "
    }
   },
   "types_to_exclude": [
    "module",
    "function",
    "builtin_function_or_method",
    "instance",
    "_Feature"
   ],
   "window_display": false
  }
 },
 "nbformat": 4,
 "nbformat_minor": 1
}
