{
 "cells": [
  {
   "cell_type": "markdown",
   "metadata": {},
   "source": [
    "# Case: Firm Credit"
   ]
  },
  {
   "cell_type": "markdown",
   "metadata": {},
   "source": [
    "The following exercises require the attached dataset \"WM.csv\", which is a sample of the credit status and characteristics of the firms in the UK in 2019 and 2020."
   ]
  },
  {
   "cell_type": "markdown",
   "metadata": {},
   "source": [
    "Load necessary libraries"
   ]
  },
  {
   "cell_type": "code",
   "execution_count": 1,
   "metadata": {
    "ExecuteTime": {
     "end_time": "2023-03-22T15:43:21.159872Z",
     "start_time": "2023-03-22T15:43:21.146851Z"
    }
   },
   "outputs": [],
   "source": [
    "import warnings\n",
    "warnings.simplefilter(action='ignore', category=FutureWarning)"
   ]
  },
  {
   "cell_type": "code",
   "execution_count": 2,
   "metadata": {
    "ExecuteTime": {
     "end_time": "2023-03-22T15:43:37.164029Z",
     "start_time": "2023-03-22T15:43:21.162865Z"
    }
   },
   "outputs": [],
   "source": [
    "import numpy as np\n",
    "import seaborn as sns\n",
    "import matplotlib.pyplot as plt"
   ]
  },
  {
   "cell_type": "code",
   "execution_count": 3,
   "metadata": {
    "ExecuteTime": {
     "end_time": "2023-03-22T15:43:37.596306Z",
     "start_time": "2023-03-22T15:43:37.181346Z"
    }
   },
   "outputs": [],
   "source": [
    "# This is important to show seaborn figures in Jupyter Notebook\n",
    "%matplotlib inline "
   ]
  },
  {
   "cell_type": "markdown",
   "metadata": {},
   "source": [
    "## Loading datasets"
   ]
  },
  {
   "cell_type": "code",
   "execution_count": 4,
   "metadata": {
    "ExecuteTime": {
     "end_time": "2023-03-22T15:43:37.846553Z",
     "start_time": "2023-03-22T15:43:37.597304Z"
    }
   },
   "outputs": [
    {
     "data": {
      "text/html": [
       "<div>\n",
       "<style scoped>\n",
       "    .dataframe tbody tr th:only-of-type {\n",
       "        vertical-align: middle;\n",
       "    }\n",
       "\n",
       "    .dataframe tbody tr th {\n",
       "        vertical-align: top;\n",
       "    }\n",
       "\n",
       "    .dataframe thead th {\n",
       "        text-align: right;\n",
       "    }\n",
       "</style>\n",
       "<table border=\"1\" class=\"dataframe\">\n",
       "  <thead>\n",
       "    <tr style=\"text-align: right;\">\n",
       "      <th></th>\n",
       "      <th>Creditscore</th>\n",
       "      <th>Creditscoreindicator</th>\n",
       "      <th>Likelihoodoffailure</th>\n",
       "      <th>CreditlimitGBPGBP</th>\n",
       "      <th>Previouscreditscore</th>\n",
       "      <th>SMEindicator</th>\n",
       "      <th>ReturnonTotalAssets2020</th>\n",
       "      <th>ReturnonTotalAssets2019</th>\n",
       "      <th>ReturnonShareholdersFunds2020</th>\n",
       "      <th>ReturnonShareholdersFunds2019</th>\n",
       "      <th>ReturnonCapitalEmployed2020</th>\n",
       "      <th>ReturnonCapitalEmployed2019</th>\n",
       "    </tr>\n",
       "  </thead>\n",
       "  <tbody>\n",
       "    <tr>\n",
       "      <th>0</th>\n",
       "      <td>99</td>\n",
       "      <td>Secure</td>\n",
       "      <td>0.9</td>\n",
       "      <td>50000000.0</td>\n",
       "      <td>99.0</td>\n",
       "      <td>No</td>\n",
       "      <td>NaN</td>\n",
       "      <td>5.332827</td>\n",
       "      <td>NaN</td>\n",
       "      <td>9.678397</td>\n",
       "      <td>NaN</td>\n",
       "      <td>7.489628</td>\n",
       "    </tr>\n",
       "    <tr>\n",
       "      <th>1</th>\n",
       "      <td>99</td>\n",
       "      <td>Secure</td>\n",
       "      <td>0.9</td>\n",
       "      <td>50000000.0</td>\n",
       "      <td>99.0</td>\n",
       "      <td>No</td>\n",
       "      <td>NaN</td>\n",
       "      <td>10.741777</td>\n",
       "      <td>NaN</td>\n",
       "      <td>22.969490</td>\n",
       "      <td>NaN</td>\n",
       "      <td>15.126464</td>\n",
       "    </tr>\n",
       "    <tr>\n",
       "      <th>2</th>\n",
       "      <td>99</td>\n",
       "      <td>Secure</td>\n",
       "      <td>0.9</td>\n",
       "      <td>50000000.0</td>\n",
       "      <td>99.0</td>\n",
       "      <td>No</td>\n",
       "      <td>NaN</td>\n",
       "      <td>21.865634</td>\n",
       "      <td>NaN</td>\n",
       "      <td>32.037294</td>\n",
       "      <td>NaN</td>\n",
       "      <td>31.933672</td>\n",
       "    </tr>\n",
       "    <tr>\n",
       "      <th>3</th>\n",
       "      <td>97</td>\n",
       "      <td>Secure</td>\n",
       "      <td>0.9</td>\n",
       "      <td>14487000.0</td>\n",
       "      <td>99.0</td>\n",
       "      <td>No</td>\n",
       "      <td>1.910443</td>\n",
       "      <td>2.712183</td>\n",
       "      <td>9.148277</td>\n",
       "      <td>12.865936</td>\n",
       "      <td>6.173426</td>\n",
       "      <td>8.224542</td>\n",
       "    </tr>\n",
       "    <tr>\n",
       "      <th>4</th>\n",
       "      <td>92</td>\n",
       "      <td>Secure</td>\n",
       "      <td>0.9</td>\n",
       "      <td>50000000.0</td>\n",
       "      <td>92.0</td>\n",
       "      <td>No</td>\n",
       "      <td>NaN</td>\n",
       "      <td>0.888376</td>\n",
       "      <td>NaN</td>\n",
       "      <td>40.237099</td>\n",
       "      <td>NaN</td>\n",
       "      <td>0.897901</td>\n",
       "    </tr>\n",
       "  </tbody>\n",
       "</table>\n",
       "</div>"
      ],
      "text/plain": [
       "   Creditscore Creditscoreindicator  Likelihoodoffailure  CreditlimitGBPGBP  \\\n",
       "0           99               Secure                  0.9         50000000.0   \n",
       "1           99               Secure                  0.9         50000000.0   \n",
       "2           99               Secure                  0.9         50000000.0   \n",
       "3           97               Secure                  0.9         14487000.0   \n",
       "4           92               Secure                  0.9         50000000.0   \n",
       "\n",
       "   Previouscreditscore SMEindicator  ReturnonTotalAssets2020  \\\n",
       "0                 99.0           No                      NaN   \n",
       "1                 99.0           No                      NaN   \n",
       "2                 99.0           No                      NaN   \n",
       "3                 99.0           No                 1.910443   \n",
       "4                 92.0           No                      NaN   \n",
       "\n",
       "   ReturnonTotalAssets2019  ReturnonShareholdersFunds2020  \\\n",
       "0                 5.332827                            NaN   \n",
       "1                10.741777                            NaN   \n",
       "2                21.865634                            NaN   \n",
       "3                 2.712183                       9.148277   \n",
       "4                 0.888376                            NaN   \n",
       "\n",
       "   ReturnonShareholdersFunds2019  ReturnonCapitalEmployed2020  \\\n",
       "0                       9.678397                          NaN   \n",
       "1                      22.969490                          NaN   \n",
       "2                      32.037294                          NaN   \n",
       "3                      12.865936                     6.173426   \n",
       "4                      40.237099                          NaN   \n",
       "\n",
       "   ReturnonCapitalEmployed2019  \n",
       "0                     7.489628  \n",
       "1                    15.126464  \n",
       "2                    31.933672  \n",
       "3                     8.224542  \n",
       "4                     0.897901  "
      ]
     },
     "execution_count": 4,
     "metadata": {},
     "output_type": "execute_result"
    }
   ],
   "source": [
    "\n",
    "import pandas as pd\n",
    "data_all= pd.read_csv(\"WM.csv\")\n",
    "\n",
    "data_all.head()"
   ]
  },
  {
   "cell_type": "markdown",
   "metadata": {},
   "source": [
    "## EDA"
   ]
  },
  {
   "cell_type": "markdown",
   "metadata": {},
   "source": [
    "Show the summary statistics"
   ]
  },
  {
   "cell_type": "code",
   "execution_count": 5,
   "metadata": {
    "ExecuteTime": {
     "end_time": "2023-03-22T15:43:37.917330Z",
     "start_time": "2023-03-22T15:43:37.850861Z"
    }
   },
   "outputs": [
    {
     "data": {
      "text/html": [
       "<div>\n",
       "<style scoped>\n",
       "    .dataframe tbody tr th:only-of-type {\n",
       "        vertical-align: middle;\n",
       "    }\n",
       "\n",
       "    .dataframe tbody tr th {\n",
       "        vertical-align: top;\n",
       "    }\n",
       "\n",
       "    .dataframe thead th {\n",
       "        text-align: right;\n",
       "    }\n",
       "</style>\n",
       "<table border=\"1\" class=\"dataframe\">\n",
       "  <thead>\n",
       "    <tr style=\"text-align: right;\">\n",
       "      <th></th>\n",
       "      <th>Creditscore</th>\n",
       "      <th>Likelihoodoffailure</th>\n",
       "      <th>CreditlimitGBPGBP</th>\n",
       "      <th>Previouscreditscore</th>\n",
       "      <th>ReturnonTotalAssets2020</th>\n",
       "      <th>ReturnonTotalAssets2019</th>\n",
       "      <th>ReturnonShareholdersFunds2020</th>\n",
       "      <th>ReturnonShareholdersFunds2019</th>\n",
       "      <th>ReturnonCapitalEmployed2020</th>\n",
       "      <th>ReturnonCapitalEmployed2019</th>\n",
       "    </tr>\n",
       "  </thead>\n",
       "  <tbody>\n",
       "    <tr>\n",
       "      <th>count</th>\n",
       "      <td>5360.000000</td>\n",
       "      <td>5325.000000</td>\n",
       "      <td>4.463000e+03</td>\n",
       "      <td>5052.000000</td>\n",
       "      <td>1908.000000</td>\n",
       "      <td>4551.000000</td>\n",
       "      <td>1541.000000</td>\n",
       "      <td>3729.000000</td>\n",
       "      <td>1840.000000</td>\n",
       "      <td>4419.000000</td>\n",
       "    </tr>\n",
       "    <tr>\n",
       "      <th>mean</th>\n",
       "      <td>57.377799</td>\n",
       "      <td>5.167493</td>\n",
       "      <td>5.796733e+05</td>\n",
       "      <td>60.650633</td>\n",
       "      <td>31.247373</td>\n",
       "      <td>18.576971</td>\n",
       "      <td>66.119477</td>\n",
       "      <td>44.795290</td>\n",
       "      <td>52.344915</td>\n",
       "      <td>37.012726</td>\n",
       "    </tr>\n",
       "    <tr>\n",
       "      <th>std</th>\n",
       "      <td>29.435448</td>\n",
       "      <td>4.331786</td>\n",
       "      <td>3.336499e+06</td>\n",
       "      <td>29.411843</td>\n",
       "      <td>133.421925</td>\n",
       "      <td>104.524940</td>\n",
       "      <td>168.090071</td>\n",
       "      <td>134.498800</td>\n",
       "      <td>160.034245</td>\n",
       "      <td>135.607030</td>\n",
       "    </tr>\n",
       "    <tr>\n",
       "      <th>min</th>\n",
       "      <td>13.000000</td>\n",
       "      <td>0.900000</td>\n",
       "      <td>5.000000e+02</td>\n",
       "      <td>15.000000</td>\n",
       "      <td>-891.034937</td>\n",
       "      <td>-938.812455</td>\n",
       "      <td>-666.568338</td>\n",
       "      <td>-913.846154</td>\n",
       "      <td>-857.642941</td>\n",
       "      <td>-996.998636</td>\n",
       "    </tr>\n",
       "    <tr>\n",
       "      <th>25%</th>\n",
       "      <td>29.000000</td>\n",
       "      <td>0.900000</td>\n",
       "      <td>5.000000e+02</td>\n",
       "      <td>31.000000</td>\n",
       "      <td>-0.093127</td>\n",
       "      <td>0.105495</td>\n",
       "      <td>3.060947</td>\n",
       "      <td>3.858561</td>\n",
       "      <td>0.887801</td>\n",
       "      <td>1.502761</td>\n",
       "    </tr>\n",
       "    <tr>\n",
       "      <th>50%</th>\n",
       "      <td>45.000000</td>\n",
       "      <td>4.200000</td>\n",
       "      <td>1.732800e+04</td>\n",
       "      <td>57.000000</td>\n",
       "      <td>8.076495</td>\n",
       "      <td>6.463188</td>\n",
       "      <td>20.641260</td>\n",
       "      <td>18.398876</td>\n",
       "      <td>15.887437</td>\n",
       "      <td>13.797054</td>\n",
       "    </tr>\n",
       "    <tr>\n",
       "      <th>75%</th>\n",
       "      <td>89.000000</td>\n",
       "      <td>10.600000</td>\n",
       "      <td>2.494980e+05</td>\n",
       "      <td>92.000000</td>\n",
       "      <td>39.020151</td>\n",
       "      <td>21.942382</td>\n",
       "      <td>87.731111</td>\n",
       "      <td>55.541840</td>\n",
       "      <td>69.622225</td>\n",
       "      <td>45.639767</td>\n",
       "    </tr>\n",
       "    <tr>\n",
       "      <th>max</th>\n",
       "      <td>99.000000</td>\n",
       "      <td>19.400000</td>\n",
       "      <td>5.000000e+07</td>\n",
       "      <td>99.000000</td>\n",
       "      <td>981.730169</td>\n",
       "      <td>994.283086</td>\n",
       "      <td>976.261682</td>\n",
       "      <td>966.519824</td>\n",
       "      <td>991.853933</td>\n",
       "      <td>966.519824</td>\n",
       "    </tr>\n",
       "  </tbody>\n",
       "</table>\n",
       "</div>"
      ],
      "text/plain": [
       "       Creditscore  Likelihoodoffailure  CreditlimitGBPGBP  \\\n",
       "count  5360.000000          5325.000000       4.463000e+03   \n",
       "mean     57.377799             5.167493       5.796733e+05   \n",
       "std      29.435448             4.331786       3.336499e+06   \n",
       "min      13.000000             0.900000       5.000000e+02   \n",
       "25%      29.000000             0.900000       5.000000e+02   \n",
       "50%      45.000000             4.200000       1.732800e+04   \n",
       "75%      89.000000            10.600000       2.494980e+05   \n",
       "max      99.000000            19.400000       5.000000e+07   \n",
       "\n",
       "       Previouscreditscore  ReturnonTotalAssets2020  ReturnonTotalAssets2019  \\\n",
       "count          5052.000000              1908.000000              4551.000000   \n",
       "mean             60.650633                31.247373                18.576971   \n",
       "std              29.411843               133.421925               104.524940   \n",
       "min              15.000000              -891.034937              -938.812455   \n",
       "25%              31.000000                -0.093127                 0.105495   \n",
       "50%              57.000000                 8.076495                 6.463188   \n",
       "75%              92.000000                39.020151                21.942382   \n",
       "max              99.000000               981.730169               994.283086   \n",
       "\n",
       "       ReturnonShareholdersFunds2020  ReturnonShareholdersFunds2019  \\\n",
       "count                    1541.000000                    3729.000000   \n",
       "mean                       66.119477                      44.795290   \n",
       "std                       168.090071                     134.498800   \n",
       "min                      -666.568338                    -913.846154   \n",
       "25%                         3.060947                       3.858561   \n",
       "50%                        20.641260                      18.398876   \n",
       "75%                        87.731111                      55.541840   \n",
       "max                       976.261682                     966.519824   \n",
       "\n",
       "       ReturnonCapitalEmployed2020  ReturnonCapitalEmployed2019  \n",
       "count                  1840.000000                  4419.000000  \n",
       "mean                     52.344915                    37.012726  \n",
       "std                     160.034245                   135.607030  \n",
       "min                    -857.642941                  -996.998636  \n",
       "25%                       0.887801                     1.502761  \n",
       "50%                      15.887437                    13.797054  \n",
       "75%                      69.622225                    45.639767  \n",
       "max                     991.853933                   966.519824  "
      ]
     },
     "execution_count": 5,
     "metadata": {},
     "output_type": "execute_result"
    }
   ],
   "source": [
    "data_all.describe()"
   ]
  },
  {
   "cell_type": "code",
   "execution_count": 6,
   "metadata": {
    "ExecuteTime": {
     "end_time": "2023-03-22T15:43:37.997989Z",
     "start_time": "2023-03-22T15:43:37.920912Z"
    }
   },
   "outputs": [
    {
     "name": "stdout",
     "output_type": "stream",
     "text": [
      "<class 'pandas.core.frame.DataFrame'>\n",
      "RangeIndex: 5360 entries, 0 to 5359\n",
      "Data columns (total 12 columns):\n",
      " #   Column                         Non-Null Count  Dtype  \n",
      "---  ------                         --------------  -----  \n",
      " 0   Creditscore                    5360 non-null   int64  \n",
      " 1   Creditscoreindicator           5360 non-null   object \n",
      " 2   Likelihoodoffailure            5325 non-null   float64\n",
      " 3   CreditlimitGBPGBP              4463 non-null   float64\n",
      " 4   Previouscreditscore            5052 non-null   float64\n",
      " 5   SMEindicator                   5360 non-null   object \n",
      " 6   ReturnonTotalAssets2020        1908 non-null   float64\n",
      " 7   ReturnonTotalAssets2019        4551 non-null   float64\n",
      " 8   ReturnonShareholdersFunds2020  1541 non-null   float64\n",
      " 9   ReturnonShareholdersFunds2019  3729 non-null   float64\n",
      " 10  ReturnonCapitalEmployed2020    1840 non-null   float64\n",
      " 11  ReturnonCapitalEmployed2019    4419 non-null   float64\n",
      "dtypes: float64(9), int64(1), object(2)\n",
      "memory usage: 502.6+ KB\n"
     ]
    }
   ],
   "source": [
    "data_all.info()"
   ]
  },
  {
   "cell_type": "markdown",
   "metadata": {},
   "source": [
    "### Show the histogram of 'Creditscore' grouped by 'Creditscoreindicator'"
   ]
  },
  {
   "cell_type": "code",
   "execution_count": 7,
   "metadata": {
    "ExecuteTime": {
     "end_time": "2023-03-22T15:43:40.207557Z",
     "start_time": "2023-03-22T15:43:38.001108Z"
    }
   },
   "outputs": [
    {
     "data": {
      "text/plain": [
       "<seaborn.axisgrid.FacetGrid at 0x1faa9bc7cd0>"
      ]
     },
     "execution_count": 7,
     "metadata": {},
     "output_type": "execute_result"
    },
    {
     "data": {
      "image/png": "[encoded data removed]",
      "text/plain": [
       "<Figure size 1500x300 with 5 Axes>"
      ]
     },
     "metadata": {},
     "output_type": "display_data"
    }
   ],
   "source": [
    "chart = sns.FacetGrid(data_all, col='Creditscoreindicator')  \n",
    "chart.map(sns.histplot, 'Creditscore') "
   ]
  },
  {
   "cell_type": "markdown",
   "metadata": {},
   "source": [
    "### Show the scatter plots between 'Creditscore' (Y) and 'ReturnonCapitalEmployed2020' (X) grouped by 'SMEindicator'"
   ]
  },
  {
   "cell_type": "code",
   "execution_count": 8,
   "metadata": {
    "ExecuteTime": {
     "end_time": "2023-03-22T15:43:41.030914Z",
     "start_time": "2023-03-22T15:43:40.213135Z"
    }
   },
   "outputs": [
    {
     "data": {
      "text/plain": [
       "<seaborn.axisgrid.FacetGrid at 0x1faaa77d0d0>"
      ]
     },
     "execution_count": 8,
     "metadata": {},
     "output_type": "execute_result"
    },
    {
     "data": {
      "image/png": "[encoded data removed]",
      "text/plain": [
       "<Figure size 900x300 with 3 Axes>"
      ]
     },
     "metadata": {},
     "output_type": "display_data"
    }
   ],
   "source": [
    "\n",
    "chart = sns.FacetGrid(data_all, col='SMEindicator')  \n",
    "chart.map(plt.scatter, 'ReturnonCapitalEmployed2020', 'Creditscore')  \n"
   ]
  },
  {
   "cell_type": "code",
   "execution_count": null,
   "metadata": {},
   "outputs": [],
   "source": []
  }
 ],
 "metadata": {
  "hide_input": false,
  "kernelspec": {
   "display_name": "Python 3 (ipykernel)",
   "language": "python",
   "name": "python3"
  },
  "language_info": {
   "codemirror_mode": {
    "name": "ipython",
    "version": 3
   },
   "file_extension": ".py",
   "mimetype": "text/x-python",
   "name": "python",
   "nbconvert_exporter": "python",
   "pygments_lexer": "ipython3",
   "version": "3.9.13"
  },
  "latex_envs": {
   "LaTeX_envs_menu_present": true,
   "autoclose": false,
   "autocomplete": true,
   "bibliofile": "biblio.bib",
   "cite_by": "apalike",
   "current_citInitial": 1,
   "eqLabelWithNumbers": true,
   "eqNumInitial": 1,
   "hotkeys": {
    "equation": "Ctrl-E",
    "itemize": "Ctrl-I"
   },
   "labels_anchors": false,
   "latex_user_defs": false,
   "report_style_numbering": false,
   "user_envs_cfg": false
  },
  "toc": {
   "base_numbering": 1,
   "nav_menu": {},
   "number_sections": true,
   "sideBar": true,
   "skip_h1_title": false,
   "title_cell": "Table of Contents",
   "title_sidebar": "Contents",
   "toc_cell": false,
   "toc_position": {
    "height": "445px",
    "left": "568px",
    "top": "111.125px",
    "width": "273.188px"
   },
   "toc_section_display": true,
   "toc_window_display": true
  },
  "varInspector": {
   "cols": {
    "lenName": 16,
    "lenType": 16,
    "lenVar": 40
   },
   "kernels_config": {
    "python": {
     "delete_cmd_postfix": "",
     "delete_cmd_prefix": "del ",
     "library": "var_list.py",
     "varRefreshCmd": "print(var_dic_list())"
    },
    "r": {
     "delete_cmd_postfix": ") ",
     "delete_cmd_prefix": "rm(",
     "library": "var_list.r",
     "varRefreshCmd": "cat(var_dic_list()) "
    }
   },
   "types_to_exclude": [
    "module",
    "function",
    "builtin_function_or_method",
    "instance",
    "_Feature"
   ],
   "window_display": false
  },
  "vscode": {
   "interpreter": {
    "hash": "49cb93f377a7abe7414b7b0f21fb3017538004a126cf690fb524202736b7fb92"
   }
  }
 },
 "nbformat": 4,
 "nbformat_minor": 1
}
