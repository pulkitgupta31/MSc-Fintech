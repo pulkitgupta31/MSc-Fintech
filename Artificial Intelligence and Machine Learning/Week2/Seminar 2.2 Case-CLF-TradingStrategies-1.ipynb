{
 "cells": [
  {
   "cell_type": "markdown",
   "id": "3ee9a3df",
   "metadata": {},
   "source": [
    "# Trading Strategies"
   ]
  },
  {
   "cell_type": "code",
   "execution_count": 1,
   "id": "bf106ba5",
   "metadata": {
    "ExecuteTime": {
     "end_time": "2023-09-17T22:42:37.547357Z",
     "start_time": "2023-09-17T22:42:37.533395Z"
    },
    "slideshow": {
     "slide_type": "notes"
    }
   },
   "outputs": [],
   "source": [
    "import warnings\n",
    "warnings.simplefilter(action='ignore', category=FutureWarning)"
   ]
  },
  {
   "cell_type": "code",
   "execution_count": 2,
   "id": "15940ba5",
   "metadata": {
    "ExecuteTime": {
     "end_time": "2023-09-17T22:43:03.206250Z",
     "start_time": "2023-09-17T22:42:38.224200Z"
    }
   },
   "outputs": [],
   "source": [
    "import numpy as np\n",
    "import pandas as pd\n",
    "import matplotlib.pyplot as plt\n",
    "from sklearn.preprocessing import StandardScaler\n",
    "from sklearn.model_selection import train_test_split"
   ]
  },
  {
   "cell_type": "code",
   "execution_count": 3,
   "id": "4cc40e01",
   "metadata": {
    "ExecuteTime": {
     "end_time": "2023-09-17T22:43:03.253130Z",
     "start_time": "2023-09-17T22:43:03.232187Z"
    }
   },
   "outputs": [],
   "source": [
    "pd.options.mode.chained_assignment = None\n",
    "# Don't show the waring when writing in a copy slice, not the original data."
   ]
  },
  {
   "cell_type": "markdown",
   "id": "e13af9f7",
   "metadata": {},
   "source": [
    "## Load data"
   ]
  },
  {
   "cell_type": "code",
   "execution_count": 4,
   "id": "bfc7b668",
   "metadata": {
    "ExecuteTime": {
     "end_time": "2023-09-17T22:43:08.093264Z",
     "start_time": "2023-09-17T22:43:08.043626Z"
    },
    "scrolled": true
   },
   "outputs": [
    {
     "data": {
      "text/html": [
       "<div>\n",
       "<style scoped>\n",
       "    .dataframe tbody tr th:only-of-type {\n",
       "        vertical-align: middle;\n",
       "    }\n",
       "\n",
       "    .dataframe tbody tr th {\n",
       "        vertical-align: top;\n",
       "    }\n",
       "\n",
       "    .dataframe thead th {\n",
       "        text-align: right;\n",
       "    }\n",
       "</style>\n",
       "<table border=\"1\" class=\"dataframe\">\n",
       "  <thead>\n",
       "    <tr style=\"text-align: right;\">\n",
       "      <th></th>\n",
       "      <th>Open</th>\n",
       "      <th>High</th>\n",
       "      <th>Low</th>\n",
       "      <th>Close</th>\n",
       "      <th>Adj Close</th>\n",
       "      <th>Volume</th>\n",
       "    </tr>\n",
       "  </thead>\n",
       "  <tbody>\n",
       "    <tr>\n",
       "      <th>0</th>\n",
       "      <td>0.936384</td>\n",
       "      <td>1.004464</td>\n",
       "      <td>0.907924</td>\n",
       "      <td>0.999442</td>\n",
       "      <td>0.850643</td>\n",
       "      <td>535796800</td>\n",
       "    </tr>\n",
       "    <tr>\n",
       "      <th>1</th>\n",
       "      <td>0.966518</td>\n",
       "      <td>0.987723</td>\n",
       "      <td>0.903460</td>\n",
       "      <td>0.915179</td>\n",
       "      <td>0.778926</td>\n",
       "      <td>512377600</td>\n",
       "    </tr>\n",
       "    <tr>\n",
       "      <th>2</th>\n",
       "      <td>0.926339</td>\n",
       "      <td>0.987165</td>\n",
       "      <td>0.919643</td>\n",
       "      <td>0.928571</td>\n",
       "      <td>0.790324</td>\n",
       "      <td>778321600</td>\n",
       "    </tr>\n",
       "    <tr>\n",
       "      <th>3</th>\n",
       "      <td>0.947545</td>\n",
       "      <td>0.955357</td>\n",
       "      <td>0.848214</td>\n",
       "      <td>0.848214</td>\n",
       "      <td>0.721930</td>\n",
       "      <td>767972800</td>\n",
       "    </tr>\n",
       "    <tr>\n",
       "      <th>4</th>\n",
       "      <td>0.861607</td>\n",
       "      <td>0.901786</td>\n",
       "      <td>0.852679</td>\n",
       "      <td>0.888393</td>\n",
       "      <td>0.756128</td>\n",
       "      <td>460734400</td>\n",
       "    </tr>\n",
       "    <tr>\n",
       "      <th>...</th>\n",
       "      <td>...</td>\n",
       "      <td>...</td>\n",
       "      <td>...</td>\n",
       "      <td>...</td>\n",
       "      <td>...</td>\n",
       "      <td>...</td>\n",
       "    </tr>\n",
       "    <tr>\n",
       "      <th>5782</th>\n",
       "      <td>130.919998</td>\n",
       "      <td>132.419998</td>\n",
       "      <td>129.639999</td>\n",
       "      <td>131.860001</td>\n",
       "      <td>131.658981</td>\n",
       "      <td>63814900</td>\n",
       "    </tr>\n",
       "    <tr>\n",
       "      <th>5783</th>\n",
       "      <td>131.380005</td>\n",
       "      <td>131.410004</td>\n",
       "      <td>128.720001</td>\n",
       "      <td>130.029999</td>\n",
       "      <td>129.831772</td>\n",
       "      <td>69007800</td>\n",
       "    </tr>\n",
       "    <tr>\n",
       "      <th>5784</th>\n",
       "      <td>129.669998</td>\n",
       "      <td>131.029999</td>\n",
       "      <td>125.870003</td>\n",
       "      <td>126.040001</td>\n",
       "      <td>125.847855</td>\n",
       "      <td>85438400</td>\n",
       "    </tr>\n",
       "    <tr>\n",
       "      <th>5785</th>\n",
       "      <td>127.989998</td>\n",
       "      <td>130.479996</td>\n",
       "      <td>127.730003</td>\n",
       "      <td>129.610001</td>\n",
       "      <td>129.412415</td>\n",
       "      <td>75703700</td>\n",
       "    </tr>\n",
       "    <tr>\n",
       "      <th>5786</th>\n",
       "      <td>128.410004</td>\n",
       "      <td>129.949997</td>\n",
       "      <td>127.430000</td>\n",
       "      <td>129.929993</td>\n",
       "      <td>129.731918</td>\n",
       "      <td>77034200</td>\n",
       "    </tr>\n",
       "  </tbody>\n",
       "</table>\n",
       "<p>5787 rows × 6 columns</p>\n",
       "</div>"
      ],
      "text/plain": [
       "            Open        High         Low       Close   Adj Close     Volume\n",
       "0       0.936384    1.004464    0.907924    0.999442    0.850643  535796800\n",
       "1       0.966518    0.987723    0.903460    0.915179    0.778926  512377600\n",
       "2       0.926339    0.987165    0.919643    0.928571    0.790324  778321600\n",
       "3       0.947545    0.955357    0.848214    0.848214    0.721930  767972800\n",
       "4       0.861607    0.901786    0.852679    0.888393    0.756128  460734400\n",
       "...          ...         ...         ...         ...         ...        ...\n",
       "5782  130.919998  132.419998  129.639999  131.860001  131.658981   63814900\n",
       "5783  131.380005  131.410004  128.720001  130.029999  129.831772   69007800\n",
       "5784  129.669998  131.029999  125.870003  126.040001  125.847855   85438400\n",
       "5785  127.989998  130.479996  127.730003  129.610001  129.412415   75703700\n",
       "5786  128.410004  129.949997  127.430000  129.929993  129.731918   77034200\n",
       "\n",
       "[5787 rows x 6 columns]"
      ]
     },
     "execution_count": 4,
     "metadata": {},
     "output_type": "execute_result"
    }
   ],
   "source": [
    "dataset = pd.read_csv('AAPL.csv') \n",
    "dataset"
   ]
  },
  {
   "cell_type": "markdown",
   "id": "e8e944a1",
   "metadata": {},
   "source": [
    "## Create features"
   ]
  },
  {
   "cell_type": "code",
   "execution_count": 5,
   "id": "29f6a63c",
   "metadata": {
    "ExecuteTime": {
     "end_time": "2023-09-17T22:43:23.626618Z",
     "start_time": "2023-09-17T22:43:23.378725Z"
    }
   },
   "outputs": [
    {
     "data": {
      "text/html": [
       "<div>\n",
       "<style scoped>\n",
       "    .dataframe tbody tr th:only-of-type {\n",
       "        vertical-align: middle;\n",
       "    }\n",
       "\n",
       "    .dataframe tbody tr th {\n",
       "        vertical-align: top;\n",
       "    }\n",
       "\n",
       "    .dataframe thead th {\n",
       "        text-align: right;\n",
       "    }\n",
       "</style>\n",
       "<table border=\"1\" class=\"dataframe\">\n",
       "  <thead>\n",
       "    <tr style=\"text-align: right;\">\n",
       "      <th></th>\n",
       "      <th>Open</th>\n",
       "      <th>High</th>\n",
       "      <th>Low</th>\n",
       "      <th>Close</th>\n",
       "      <th>H-L</th>\n",
       "      <th>O-C</th>\n",
       "      <th>3day MA</th>\n",
       "      <th>10day MA</th>\n",
       "      <th>30day MA</th>\n",
       "      <th>Std_dev</th>\n",
       "      <th>Price_Rise</th>\n",
       "    </tr>\n",
       "  </thead>\n",
       "  <tbody>\n",
       "    <tr>\n",
       "      <th>30</th>\n",
       "      <td>1.029018</td>\n",
       "      <td>1.070871</td>\n",
       "      <td>1.028460</td>\n",
       "      <td>1.062500</td>\n",
       "      <td>0.042411</td>\n",
       "      <td>0.033482</td>\n",
       "      <td>1.006138</td>\n",
       "      <td>0.973214</td>\n",
       "      <td>0.939639</td>\n",
       "      <td>0.033990</td>\n",
       "      <td>0</td>\n",
       "    </tr>\n",
       "    <tr>\n",
       "      <th>31</th>\n",
       "      <td>1.051339</td>\n",
       "      <td>1.054688</td>\n",
       "      <td>1.001116</td>\n",
       "      <td>1.018973</td>\n",
       "      <td>0.053572</td>\n",
       "      <td>-0.032366</td>\n",
       "      <td>1.022507</td>\n",
       "      <td>0.989955</td>\n",
       "      <td>0.941741</td>\n",
       "      <td>0.033357</td>\n",
       "      <td>1</td>\n",
       "    </tr>\n",
       "    <tr>\n",
       "      <th>32</th>\n",
       "      <td>1.028460</td>\n",
       "      <td>1.031250</td>\n",
       "      <td>1.010045</td>\n",
       "      <td>1.025670</td>\n",
       "      <td>0.021205</td>\n",
       "      <td>-0.002790</td>\n",
       "      <td>1.038504</td>\n",
       "      <td>1.003627</td>\n",
       "      <td>0.945201</td>\n",
       "      <td>0.033203</td>\n",
       "      <td>0</td>\n",
       "    </tr>\n",
       "    <tr>\n",
       "      <th>33</th>\n",
       "      <td>1.023438</td>\n",
       "      <td>1.030134</td>\n",
       "      <td>0.989955</td>\n",
       "      <td>0.993304</td>\n",
       "      <td>0.040179</td>\n",
       "      <td>-0.030134</td>\n",
       "      <td>1.035714</td>\n",
       "      <td>1.013951</td>\n",
       "      <td>0.948437</td>\n",
       "      <td>0.025057</td>\n",
       "      <td>1</td>\n",
       "    </tr>\n",
       "    <tr>\n",
       "      <th>34</th>\n",
       "      <td>0.983259</td>\n",
       "      <td>1.044085</td>\n",
       "      <td>0.952567</td>\n",
       "      <td>1.016183</td>\n",
       "      <td>0.091518</td>\n",
       "      <td>0.032924</td>\n",
       "      <td>1.012649</td>\n",
       "      <td>1.016853</td>\n",
       "      <td>0.953274</td>\n",
       "      <td>0.025057</td>\n",
       "      <td>1</td>\n",
       "    </tr>\n",
       "  </tbody>\n",
       "</table>\n",
       "</div>"
      ],
      "text/plain": [
       "        Open      High       Low     Close       H-L       O-C   3day MA  \\\n",
       "30  1.029018  1.070871  1.028460  1.062500  0.042411  0.033482  1.006138   \n",
       "31  1.051339  1.054688  1.001116  1.018973  0.053572 -0.032366  1.022507   \n",
       "32  1.028460  1.031250  1.010045  1.025670  0.021205 -0.002790  1.038504   \n",
       "33  1.023438  1.030134  0.989955  0.993304  0.040179 -0.030134  1.035714   \n",
       "34  0.983259  1.044085  0.952567  1.016183  0.091518  0.032924  1.012649   \n",
       "\n",
       "    10day MA  30day MA   Std_dev  Price_Rise  \n",
       "30  0.973214  0.939639  0.033990           0  \n",
       "31  0.989955  0.941741  0.033357           1  \n",
       "32  1.003627  0.945201  0.033203           0  \n",
       "33  1.013951  0.948437  0.025057           1  \n",
       "34  1.016853  0.953274  0.025057           1  "
      ]
     },
     "execution_count": 5,
     "metadata": {},
     "output_type": "execute_result"
    }
   ],
   "source": [
    "dataset = dataset.dropna() \n",
    "dataset = dataset[['Open', 'High', 'Low', 'Close']]\n",
    "\n",
    "dataset['H-L'] = dataset['High'] - dataset['Low'] \n",
    "dataset['O-C'] = dataset['Close'] - dataset['Open'] \n",
    "dataset['3day MA'] = dataset['Close'].shift(1).rolling(window = 3).mean() \n",
    "dataset['10day MA'] = dataset['Close'].shift(1).rolling(window = 10).mean() \n",
    "\n",
    "dataset['30day MA'] = dataset['Close'].shift(1).rolling(window = 30).mean() \n",
    "dataset['Std_dev']= dataset['Close'].rolling(5).std() \n",
    "\n",
    "dataset['Price_Rise'] = np.where(dataset['Close'].shift(-1) > dataset['Close'], 1, 0)\n",
    "dataset = dataset.dropna()\n",
    "dataset.head()"
   ]
  },
  {
   "cell_type": "code",
   "execution_count": null,
   "id": "e4d55862",
   "metadata": {
    "slideshow": {
     "slide_type": "slide"
    }
   },
   "outputs": [],
   "source": [
    "\n"
   ]
  },
  {
   "cell_type": "code",
   "execution_count": null,
   "id": "b89abed4",
   "metadata": {},
   "outputs": [],
   "source": []
  }
 ],
 "metadata": {
  "celltoolbar": "Slideshow",
  "hide_input": false,
  "kernelspec": {
   "display_name": "Python 3 (ipykernel)",
   "language": "python",
   "name": "python3"
  },
  "language_info": {
   "codemirror_mode": {
    "name": "ipython",
    "version": 3
   },
   "file_extension": ".py",
   "mimetype": "text/x-python",
   "name": "python",
   "nbconvert_exporter": "python",
   "pygments_lexer": "ipython3",
   "version": "3.9.13"
  },
  "toc": {
   "base_numbering": 1,
   "nav_menu": {},
   "number_sections": true,
   "sideBar": true,
   "skip_h1_title": false,
   "title_cell": "Table of Contents",
   "title_sidebar": "Contents",
   "toc_cell": false,
   "toc_position": {
    "height": "445px",
    "left": "29px",
    "top": "111.125px",
    "width": "273.188px"
   },
   "toc_section_display": true,
   "toc_window_display": false
  },
  "varInspector": {
   "cols": {
    "lenName": 16,
    "lenType": 16,
    "lenVar": 40
   },
   "kernels_config": {
    "python": {
     "delete_cmd_postfix": "",
     "delete_cmd_prefix": "del ",
     "library": "var_list.py",
     "varRefreshCmd": "print(var_dic_list())"
    },
    "r": {
     "delete_cmd_postfix": ") ",
     "delete_cmd_prefix": "rm(",
     "library": "var_list.r",
     "varRefreshCmd": "cat(var_dic_list()) "
    }
   },
   "types_to_exclude": [
    "module",
    "function",
    "builtin_function_or_method",
    "instance",
    "_Feature"
   ],
   "window_display": false
  },
  "vscode": {
   "interpreter": {
    "hash": "49cb93f377a7abe7414b7b0f21fb3017538004a126cf690fb524202736b7fb92"
   }
  }
 },
 "nbformat": 4,
 "nbformat_minor": 5
}
