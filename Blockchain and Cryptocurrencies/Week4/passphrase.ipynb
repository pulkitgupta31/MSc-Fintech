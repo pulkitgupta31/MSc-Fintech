{
 "cells": [
  {
   "cell_type": "code",
   "execution_count": 1,
   "id": "270003e4",
   "metadata": {},
   "outputs": [],
   "source": [
    "import hashlib # for SHA256 computation\n",
    "import binascii # for conversion between Hexa and bytes"
   ]
  },
  {
   "cell_type": "code",
   "execution_count": 2,
   "id": "c4c8f0e9",
   "metadata": {},
   "outputs": [],
   "source": [
    "entropy = '3615e3be2a3ce8efba23168152c7288ff3b7004d60c201dac73eedc6c9c82316'"
   ]
  },
  {
   "cell_type": "code",
   "execution_count": 3,
   "id": "3515247d",
   "metadata": {},
   "outputs": [],
   "source": [
    "data = entropy.strip() #cleaning of data\n",
    "data = binascii.unhexlify(data)\n",
    "if len(data) not in [16, 20, 24, 28, 32]:\n",
    "   raise ValueError(\n",
    "  'Data length should be one of the following: [16, 20, 24, 28, 32], but it is not (%d).' % len(data)\n",
    "   )"
   ]
  },
  {
   "cell_type": "code",
   "execution_count": 4,
   "id": "6ed07a50",
   "metadata": {},
   "outputs": [],
   "source": [
    "h = hashlib.sha256(data).hexdigest()\n",
    "b = bin(int(binascii.hexlify(data),16))[2:].zfill(len(data)*8) + bin(int(h,16))[2:].zfill(256)[: len(data)* 8//32]"
   ]
  },
  {
   "cell_type": "code",
   "execution_count": 5,
   "id": "cec8137f",
   "metadata": {},
   "outputs": [],
   "source": [
    "with open(\"words.txt\", \"r\") as f:\n",
    "         wordlist = [w.strip() for w in f.readlines()]"
   ]
  },
  {
   "cell_type": "code",
   "execution_count": 6,
   "id": "18b9cc14",
   "metadata": {},
   "outputs": [
    {
     "name": "stdout",
     "output_type": "stream",
     "text": [
      "['abdominogenital', 'abstractly', 'Accipitres', 'abiologically', 'acanthosis', 'Abor-miri', 'accessioning', 'ableeze', 'abox', 'abscisse', 'acanthocephalan', 'abash', 'abecedaria', 'above-quoted', 'abdominoanterior', 'Abailard', '2nd', 'acatalepsy', 'acapnial', 'acceding', 'abnormous', 'acceptilated', 'abridgedly', 'acaulose']\n"
     ]
    }
   ],
   "source": [
    "seed = []\n",
    "for i in range(len(b)//11):\n",
    "    indx = int(b[11*i:11*(i+1)],2)\n",
    "    seed.append(wordlist[indx])\n",
    "#print(entropy)\n",
    "print(seed) "
   ]
  }
 ],
 "metadata": {
  "kernelspec": {
   "display_name": "Python 3 (ipykernel)",
   "language": "python",
   "name": "python3"
  },
  "language_info": {
   "codemirror_mode": {
    "name": "ipython",
    "version": 3
   },
   "file_extension": ".py",
   "mimetype": "text/x-python",
   "name": "python",
   "nbconvert_exporter": "python",
   "pygments_lexer": "ipython3",
   "version": "3.9.7"
  }
 },
 "nbformat": 4,
 "nbformat_minor": 5
}
