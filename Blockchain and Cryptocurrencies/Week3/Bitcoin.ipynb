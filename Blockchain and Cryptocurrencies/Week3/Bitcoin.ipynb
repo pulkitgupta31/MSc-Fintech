{
 "cells": [
  {
   "cell_type": "code",
   "execution_count": 1,
   "metadata": {},
   "outputs": [
    {
     "name": "stdout",
     "output_type": "stream",
     "text": [
      "Collecting bitcoin\n",
      "  Downloading bitcoin-1.1.42.tar.gz (36 kB)\n",
      "Building wheels for collected packages: bitcoin\n",
      "  Building wheel for bitcoin (setup.py): startedNote: you may need to restart the kernel to use updated packages.\n",
      "  Building wheel for bitcoin (setup.py): finished with status 'done'\n",
      "  Created wheel for bitcoin: filename=bitcoin-1.1.42-py3-none-any.whl size=44415 sha256=d250c0d74804c9daa01218412c40b7c1a6ffe4bfba90c59c4de6670b9d3a0c40\n",
      "  Stored in directory: c:\\users\\gongh\\appdata\\local\\pip\\cache\\wheels\\2d\\12\\38\\7f9a9052a6b622b88ede09f2479471c3402312fafa03de7d88\n",
      "Successfully built bitcoin\n",
      "Installing collected packages: bitcoin\n",
      "Successfully installed bitcoin-1.1.42\n",
      "\n"
     ]
    }
   ],
   "source": [
    "pip install bitcoin"
   ]
  },
  {
   "cell_type": "code",
   "execution_count": 2,
   "metadata": {},
   "outputs": [],
   "source": [
    "from bitcoin import *"
   ]
  },
  {
   "cell_type": "code",
   "execution_count": 3,
   "metadata": {},
   "outputs": [
    {
     "name": "stdout",
     "output_type": "stream",
     "text": [
      "Private Key: 3615e3be2a3ce8efba23168152c7288ff3b7004d60c201dac73eedc6c9c82316\n",
      "\n"
     ]
    }
   ],
   "source": [
    "my_private_key = random_key()\n",
    "print(\"Private Key: %s\\n\" % my_private_key)"
   ]
  },
  {
   "cell_type": "code",
   "execution_count": 4,
   "metadata": {},
   "outputs": [
    {
     "name": "stdout",
     "output_type": "stream",
     "text": [
      "Public Key: 04df6a0b50260c25c71c2f68a154104b9101ed17236d7c1650c74788eb6d1f53f34e4d62e607e42fe35c94f8ace2912b5fd5de87e814ba60f8e3a1af892a7fe391\n",
      "\n"
     ]
    }
   ],
   "source": [
    "my_public_key = privtopub(my_private_key)\n",
    "print(\"Public Key: %s\\n\" % my_public_key)"
   ]
  },
  {
   "cell_type": "code",
   "execution_count": 5,
   "metadata": {},
   "outputs": [
    {
     "name": "stdout",
     "output_type": "stream",
     "text": [
      "Bitcoin Address: 18BtnqbmBncRQoDSy4xq3fJMb1zhkyUiBP\n",
      "\n"
     ]
    }
   ],
   "source": [
    "my_address = pubtoaddr(my_public_key)\n",
    "print(\"Bitcoin Address: %s\\n\" % my_address)"
   ]
  },
  {
   "cell_type": "code",
   "execution_count": 6,
   "metadata": {},
   "outputs": [],
   "source": [
    "private_key1 = random_key()\n",
    "private_key2 = random_key()\n",
    "private_key3 = random_key()"
   ]
  },
  {
   "cell_type": "code",
   "execution_count": 7,
   "metadata": {},
   "outputs": [],
   "source": [
    "public_key1 = privtopub(private_key1)\n",
    "public_key2 = privtopub(private_key2)\n",
    "public_key3 = privtopub(private_key3)"
   ]
  },
  {
   "cell_type": "code",
   "execution_count": 8,
   "metadata": {},
   "outputs": [
    {
     "name": "stdout",
     "output_type": "stream",
     "text": [
      "My Multisignature Address: 31sPm3xwWhdtbAGUGC9n3vYSj4G5dGwwmj\n",
      "\n"
     ]
    }
   ],
   "source": [
    "my_mulit_sig = mk_multisig_script(private_key1, private_key2, private_key3, 2, 3)\n",
    "my_mulit_address = scriptaddr(my_mulit_sig)\n",
    "print(\"My Multisignature Address: %s\\n\" % my_mulit_address)"
   ]
  },
  {
   "cell_type": "code",
   "execution_count": 9,
   "metadata": {},
   "outputs": [
    {
     "name": "stdout",
     "output_type": "stream",
     "text": [
      "[{'address': '1KokfmiMAkpnqDTt3aKVkrEf6Hsagpbz8B', 'value': 471797, 'output': '0b9b3e874638d8cbce4ff5fad651d740d6f5b9cee9503be9495a45b801f48bec:0', 'block_height': 668363, 'spend': '27815390ad05b8a49bc15ec364e0e320bab21aa5c46a6c5b2b79ac4c0ae9cbc1:4'}]\n"
     ]
    }
   ],
   "source": [
    "valid_address = '1KokfmiMAkpnqDTt3aKVkrEf6Hsagpbz8B'\n",
    "print(history(valid_address))"
   ]
  },
  {
   "cell_type": "code",
   "execution_count": null,
   "metadata": {},
   "outputs": [],
   "source": []
  }
 ],
 "metadata": {
  "kernelspec": {
   "display_name": "Python 3",
   "language": "python",
   "name": "python3"
  },
  "language_info": {
   "codemirror_mode": {
    "name": "ipython",
    "version": 3
   },
   "file_extension": ".py",
   "mimetype": "text/x-python",
   "name": "python",
   "nbconvert_exporter": "python",
   "pygments_lexer": "ipython3",
   "version": "3.8.3"
  }
 },
 "nbformat": 4,
 "nbformat_minor": 4
}
