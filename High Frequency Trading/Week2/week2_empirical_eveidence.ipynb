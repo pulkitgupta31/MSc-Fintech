{
 "cells": [
  {
   "cell_type": "markdown",
   "id": "5a31149b-afcc-4507-875d-7311b4b8fd39",
   "metadata": {
    "tags": []
   },
   "source": [
    "# Week 2 Empirical Evidence"
   ]
  },
  {
   "cell_type": "code",
   "execution_count": 2,
   "id": "2dcf1f0a-5fdd-4aae-ad13-561829bd3b03",
   "metadata": {
    "tags": []
   },
   "outputs": [],
   "source": [
    "import scipy.io as sio  # for loading matlab data\n",
    "\n",
    "import numpy as np      # for numerical libs\n",
    "\n",
    "from matplotlib.ticker import FuncFormatter # for custom bar plot labels\n",
    "\n",
    "import matplotlib.pyplot as plt  # for plotting\n",
    "\n",
    "import matplotlib.pylab as pylab\n",
    "params = {'legend.fontsize': 'x-large',\n",
    "          'figure.figsize': (15, 5),\n",
    "         'axes.labelsize': 'x-large',\n",
    "         'axes.titlesize':'x-large',\n",
    "         'xtick.labelsize':'x-large',\n",
    "         'ytick.labelsize':'x-large'}\n",
    "pylab.rcParams.update(params)"
   ]
  },
  {
   "cell_type": "code",
   "execution_count": 3,
   "id": "34129538-81f5-45c8-a061-51c1f43f0e5b",
   "metadata": {
    "tags": []
   },
   "outputs": [],
   "source": [
    "data = sio.loadmat('MSFT_20141103.mat')"
   ]
  },
  {
   "cell_type": "code",
   "execution_count": 4,
   "id": "0fe8cf47-31e5-4d9c-a5b6-5af8b760f1d9",
   "metadata": {
    "tags": []
   },
   "outputs": [],
   "source": [
    "LOB=data['LOB']\n",
    "\n",
    "t = (np.array((LOB['EventTime'][0][0][:,0]))-3600000*9.5)*1e-3\n",
    "bid = np.array(LOB['BuyPrice'][0][0]*1e-4)\n",
    "bidvol = np.array(LOB['BuyVolume'][0][0]*1.0)\n",
    "ask = np.array(LOB['SellPrice'][0][0]*1e-4)\n",
    "askvol = np.array(LOB['SellVolume'][0][0]*1.0)\n",
    "MO=np.array(LOB['MO'][0][0]*1.0)\n",
    "dt = t[1]-t[0]"
   ]
  },
  {
   "cell_type": "code",
   "execution_count": 19,
   "id": "b47617db-07bb-419c-aff8-db996c553aef",
   "metadata": {
    "tags": []
   },
   "outputs": [
    {
     "data": {
      "text/plain": [
       "array([46.73, 46.75, 46.8 , ..., 47.43, 47.43, 47.43])"
      ]
     },
     "execution_count": 19,
     "metadata": {},
     "output_type": "execute_result"
    }
   ],
   "source": [
    "bestbid=bid[:,0]\n",
    "bestbid"
   ]
  },
  {
   "cell_type": "code",
   "execution_count": 20,
   "id": "3a9ed71c-f072-4dee-934c-90223243f874",
   "metadata": {
    "tags": []
   },
   "outputs": [],
   "source": [
    "bestask=ask[:,0]"
   ]
  },
  {
   "cell_type": "code",
   "execution_count": 21,
   "id": "21610a33-5c20-4596-9971-adf5de7ca0d6",
   "metadata": {
    "tags": []
   },
   "outputs": [
    {
     "data": {
      "text/plain": [
       "array([46.75, 46.8 , 46.81, ..., 47.44, 47.44, 47.44])"
      ]
     },
     "execution_count": 21,
     "metadata": {},
     "output_type": "execute_result"
    }
   ],
   "source": [
    "bestask"
   ]
  },
  {
   "cell_type": "code",
   "execution_count": 22,
   "id": "a80892ad-5094-40eb-9fe2-996ea2000df2",
   "metadata": {
    "tags": []
   },
   "outputs": [],
   "source": [
    "import pandas as pd"
   ]
  },
  {
   "cell_type": "code",
   "execution_count": 26,
   "id": "6ca42954-1337-4221-b8af-6da30c88eb82",
   "metadata": {
    "tags": []
   },
   "outputs": [],
   "source": [
    "df=pd.DataFrame(np.transpose([bestbid,bestask]))"
   ]
  },
  {
   "cell_type": "code",
   "execution_count": 28,
   "id": "941b9a61-d754-4297-80fc-6e5bb6b547eb",
   "metadata": {
    "tags": []
   },
   "outputs": [],
   "source": [
    "df.index=t\n",
    "df.columns=['bid','ask']"
   ]
  },
  {
   "cell_type": "code",
   "execution_count": 30,
   "id": "54627680-66a1-4847-a9cc-2bfe8327d15a",
   "metadata": {
    "tags": []
   },
   "outputs": [
    {
     "data": {
      "text/plain": [
       "<bound method NDFrame.head of            bid    ask\n",
       "0.1      46.73  46.75\n",
       "0.2      46.75  46.80\n",
       "0.3      46.80  46.81\n",
       "0.4      46.80  46.88\n",
       "0.5      46.80  46.87\n",
       "...        ...    ...\n",
       "23399.6  47.43  47.44\n",
       "23399.7  47.43  47.44\n",
       "23399.8  47.43  47.44\n",
       "23399.9  47.43  47.44\n",
       "23400.0  47.43  47.44\n",
       "\n",
       "[234000 rows x 2 columns]>"
      ]
     },
     "execution_count": 30,
     "metadata": {},
     "output_type": "execute_result"
    }
   ],
   "source": [
    "df.head"
   ]
  },
  {
   "cell_type": "code",
   "execution_count": 31,
   "id": "d78597e0-a955-46a2-8ba3-fa60730d25b6",
   "metadata": {
    "tags": []
   },
   "outputs": [],
   "source": [
    "df['midprice']=(df['bid']+df['ask'])*0.5"
   ]
  },
  {
   "cell_type": "code",
   "execution_count": 32,
   "id": "dbd600bf-9fd8-491e-b243-d2a33d06a363",
   "metadata": {
    "tags": []
   },
   "outputs": [],
   "source": [
    "df['spread'] = df['ask']-df['bid']"
   ]
  },
  {
   "cell_type": "code",
   "execution_count": 33,
   "id": "c60407f1-8b5f-4743-b9ac-3cff9ce5d2b6",
   "metadata": {
    "tags": []
   },
   "outputs": [],
   "source": [
    "df['askvol']=np.transpose(askvol[:,0])"
   ]
  },
  {
   "cell_type": "code",
   "execution_count": 34,
   "id": "6533d5ec-2c2b-4439-b35e-731a2aaa4659",
   "metadata": {
    "tags": []
   },
   "outputs": [],
   "source": [
    "df['bidvol']=np.transpose(bidvol[:,0])"
   ]
  },
  {
   "cell_type": "code",
   "execution_count": 35,
   "id": "c2364902-b59a-4a5d-b11f-fe7070074fed",
   "metadata": {
    "tags": []
   },
   "outputs": [
    {
     "data": {
      "text/plain": [
       "<bound method NDFrame.head of            bid    ask  midprice  spread   askvol  bidvol\n",
       "0.1      46.73  46.75    46.740    0.02   2995.0   100.0\n",
       "0.2      46.75  46.80    46.775    0.05   1814.0   100.0\n",
       "0.3      46.80  46.81    46.805    0.01    668.0   986.0\n",
       "0.4      46.80  46.88    46.840    0.08    955.0  2882.0\n",
       "0.5      46.80  46.87    46.835    0.07    100.0  3136.0\n",
       "...        ...    ...       ...     ...      ...     ...\n",
       "23399.6  47.43  47.44    47.435    0.01  51525.0  4500.0\n",
       "23399.7  47.43  47.44    47.435    0.01  58125.0  2300.0\n",
       "23399.8  47.43  47.44    47.435    0.01  59925.0   407.0\n",
       "23399.9  47.43  47.44    47.435    0.01  59925.0   407.0\n",
       "23400.0  47.43  47.44    47.435    0.01  60025.0   407.0\n",
       "\n",
       "[234000 rows x 6 columns]>"
      ]
     },
     "execution_count": 35,
     "metadata": {},
     "output_type": "execute_result"
    }
   ],
   "source": [
    "df.head"
   ]
  },
  {
   "cell_type": "code",
   "execution_count": 37,
   "id": "1a3c2be7-3927-40e0-b71a-0336abe9bd58",
   "metadata": {
    "tags": []
   },
   "outputs": [],
   "source": [
    "df['microprice']=(df['bid']*df['askvol']+df['ask']*df['bidvol'])/(df['askvol']+df['bidvol'])"
   ]
  },
  {
   "cell_type": "code",
   "execution_count": 38,
   "id": "864887b7-757b-4325-b1db-86bc64d62d76",
   "metadata": {
    "tags": []
   },
   "outputs": [
    {
     "data": {
      "text/plain": [
       "<bound method NDFrame.head of            bid    ask  midprice  spread   askvol  bidvol  microprice\n",
       "0.1      46.73  46.75    46.740    0.02   2995.0   100.0   46.730646\n",
       "0.2      46.75  46.80    46.775    0.05   1814.0   100.0   46.752612\n",
       "0.3      46.80  46.81    46.805    0.01    668.0   986.0   46.805961\n",
       "0.4      46.80  46.88    46.840    0.08    955.0  2882.0   46.860089\n",
       "0.5      46.80  46.87    46.835    0.07    100.0  3136.0   46.867837\n",
       "...        ...    ...       ...     ...      ...     ...         ...\n",
       "23399.6  47.43  47.44    47.435    0.01  51525.0  4500.0   47.430803\n",
       "23399.7  47.43  47.44    47.435    0.01  58125.0  2300.0   47.430381\n",
       "23399.8  47.43  47.44    47.435    0.01  59925.0   407.0   47.430067\n",
       "23399.9  47.43  47.44    47.435    0.01  59925.0   407.0   47.430067\n",
       "23400.0  47.43  47.44    47.435    0.01  60025.0   407.0   47.430067\n",
       "\n",
       "[234000 rows x 7 columns]>"
      ]
     },
     "execution_count": 38,
     "metadata": {},
     "output_type": "execute_result"
    }
   ],
   "source": [
    "df.head"
   ]
  },
  {
   "cell_type": "code",
   "execution_count": 43,
   "id": "1521b6e3-4b44-4001-a2a8-a43917ddb2eb",
   "metadata": {
    "tags": []
   },
   "outputs": [],
   "source": [
    "secdf = df.iloc[::10, :]"
   ]
  },
  {
   "cell_type": "code",
   "execution_count": 44,
   "id": "77f49efd-9299-400e-b751-0d98f60d6429",
   "metadata": {
    "tags": []
   },
   "outputs": [
    {
     "data": {
      "text/plain": [
       "<bound method NDFrame.head of            bid    ask  midprice  spread   askvol   bidvol  microprice\n",
       "0.1      46.73  46.75    46.740    0.02   2995.0    100.0   46.730646\n",
       "1.1      46.77  46.82    46.795    0.05    500.0     18.0   46.771737\n",
       "2.1      46.76  46.79    46.775    0.03    400.0    200.0   46.770000\n",
       "3.1      46.76  46.79    46.775    0.03    474.0  10200.0   46.788668\n",
       "4.1      46.76  46.78    46.770    0.02    300.0   8200.0   46.779294\n",
       "...        ...    ...       ...     ...      ...      ...         ...\n",
       "23395.1  47.43  47.44    47.435    0.01   1758.0   7250.0   47.438048\n",
       "23396.1  47.43  47.44    47.435    0.01   2300.0   2400.0   47.435106\n",
       "23397.1  47.44  47.45    47.445    0.01  10522.0   2000.0   47.441597\n",
       "23398.1  47.44  47.45    47.445    0.01  27999.0   1100.0   47.440378\n",
       "23399.1  47.43  47.44    47.435    0.01  22258.0   3800.0   47.431458\n",
       "\n",
       "[23400 rows x 7 columns]>"
      ]
     },
     "execution_count": 44,
     "metadata": {},
     "output_type": "execute_result"
    }
   ],
   "source": [
    "secdf.head"
   ]
  },
  {
   "cell_type": "code",
   "execution_count": 45,
   "id": "b76b0c59-752a-426a-9b38-7363db1209e1",
   "metadata": {
    "tags": []
   },
   "outputs": [
    {
     "name": "stderr",
     "output_type": "stream",
     "text": [
      "C:\\Users\\evely\\AppData\\Local\\Temp\\ipykernel_19048\\479470845.py:1: SettingWithCopyWarning: \n",
      "A value is trying to be set on a copy of a slice from a DataFrame.\n",
      "Try using .loc[row_indexer,col_indexer] = value instead\n",
      "\n",
      "See the caveats in the documentation: https://pandas.pydata.org/pandas-docs/stable/user_guide/indexing.html#returning-a-view-versus-a-copy\n",
      "  secdf['return']=secdf['midprice'].pct_change()*100\n"
     ]
    }
   ],
   "source": [
    "secdf['return']=secdf['midprice'].pct_change()*100"
   ]
  },
  {
   "cell_type": "code",
   "execution_count": 46,
   "id": "45c48025-0f09-4793-8a85-92df9ecdc05c",
   "metadata": {
    "tags": []
   },
   "outputs": [
    {
     "data": {
      "text/plain": [
       "<bound method NDFrame.head of            bid    ask  midprice  spread   askvol   bidvol  microprice  \\\n",
       "0.1      46.73  46.75    46.740    0.02   2995.0    100.0   46.730646   \n",
       "1.1      46.77  46.82    46.795    0.05    500.0     18.0   46.771737   \n",
       "2.1      46.76  46.79    46.775    0.03    400.0    200.0   46.770000   \n",
       "3.1      46.76  46.79    46.775    0.03    474.0  10200.0   46.788668   \n",
       "4.1      46.76  46.78    46.770    0.02    300.0   8200.0   46.779294   \n",
       "...        ...    ...       ...     ...      ...      ...         ...   \n",
       "23395.1  47.43  47.44    47.435    0.01   1758.0   7250.0   47.438048   \n",
       "23396.1  47.43  47.44    47.435    0.01   2300.0   2400.0   47.435106   \n",
       "23397.1  47.44  47.45    47.445    0.01  10522.0   2000.0   47.441597   \n",
       "23398.1  47.44  47.45    47.445    0.01  27999.0   1100.0   47.440378   \n",
       "23399.1  47.43  47.44    47.435    0.01  22258.0   3800.0   47.431458   \n",
       "\n",
       "           return  \n",
       "0.1           NaN  \n",
       "1.1      0.117672  \n",
       "2.1     -0.042740  \n",
       "3.1      0.000000  \n",
       "4.1     -0.010689  \n",
       "...           ...  \n",
       "23395.1  0.000000  \n",
       "23396.1  0.000000  \n",
       "23397.1  0.021081  \n",
       "23398.1  0.000000  \n",
       "23399.1 -0.021077  \n",
       "\n",
       "[23400 rows x 8 columns]>"
      ]
     },
     "execution_count": 46,
     "metadata": {},
     "output_type": "execute_result"
    }
   ],
   "source": [
    "secdf.head"
   ]
  },
  {
   "cell_type": "code",
   "execution_count": 47,
   "id": "79ba5af7-414c-4d10-a981-181ee6f47ffc",
   "metadata": {
    "tags": []
   },
   "outputs": [
    {
     "data": {
      "image/png": "[encoded data removed]",
      "text/plain": [
       "<Figure size 1500x500 with 1 Axes>"
      ]
     },
     "metadata": {},
     "output_type": "display_data"
    }
   ],
   "source": [
    "import scipy.stats as stats\n",
    "import matplotlib.pyplot as plt\n",
    "res = stats.probplot(secdf['return'], dist=\"norm\", plot=plt)\n",
    "\n",
    "plt.title('Q-Q Plot')\n",
    "plt.xlabel('Theoretical quantiles')\n",
    "plt.ylabel('Sample quantiles')\n",
    "\n",
    "# Show the plot\n",
    "plt.show()"
   ]
  },
  {
   "cell_type": "code",
   "execution_count": 57,
   "id": "039caf58-faae-4b9b-b249-ee0a71486798",
   "metadata": {
    "tags": []
   },
   "outputs": [
    {
     "data": {
      "text/html": [
       "<div>\n",
       "<style scoped>\n",
       "    .dataframe tbody tr th:only-of-type {\n",
       "        vertical-align: middle;\n",
       "    }\n",
       "\n",
       "    .dataframe tbody tr th {\n",
       "        vertical-align: top;\n",
       "    }\n",
       "\n",
       "    .dataframe thead th {\n",
       "        text-align: right;\n",
       "    }\n",
       "</style>\n",
       "<table border=\"1\" class=\"dataframe\">\n",
       "  <thead>\n",
       "    <tr style=\"text-align: right;\">\n",
       "      <th></th>\n",
       "      <th>bid</th>\n",
       "      <th>ask</th>\n",
       "      <th>midprice</th>\n",
       "      <th>spread</th>\n",
       "      <th>askvol</th>\n",
       "      <th>bidvol</th>\n",
       "      <th>microprice</th>\n",
       "      <th>return</th>\n",
       "    </tr>\n",
       "  </thead>\n",
       "  <tbody>\n",
       "    <tr>\n",
       "      <th>0.1</th>\n",
       "      <td>46.73</td>\n",
       "      <td>46.75</td>\n",
       "      <td>46.740</td>\n",
       "      <td>0.02</td>\n",
       "      <td>2995.0</td>\n",
       "      <td>100.0</td>\n",
       "      <td>46.730646</td>\n",
       "      <td>NaN</td>\n",
       "    </tr>\n",
       "    <tr>\n",
       "      <th>1.1</th>\n",
       "      <td>46.77</td>\n",
       "      <td>46.82</td>\n",
       "      <td>46.795</td>\n",
       "      <td>0.05</td>\n",
       "      <td>500.0</td>\n",
       "      <td>18.0</td>\n",
       "      <td>46.771737</td>\n",
       "      <td>0.117672</td>\n",
       "    </tr>\n",
       "    <tr>\n",
       "      <th>2.1</th>\n",
       "      <td>46.76</td>\n",
       "      <td>46.79</td>\n",
       "      <td>46.775</td>\n",
       "      <td>0.03</td>\n",
       "      <td>400.0</td>\n",
       "      <td>200.0</td>\n",
       "      <td>46.770000</td>\n",
       "      <td>-0.042740</td>\n",
       "    </tr>\n",
       "    <tr>\n",
       "      <th>3.1</th>\n",
       "      <td>46.76</td>\n",
       "      <td>46.79</td>\n",
       "      <td>46.775</td>\n",
       "      <td>0.03</td>\n",
       "      <td>474.0</td>\n",
       "      <td>10200.0</td>\n",
       "      <td>46.788668</td>\n",
       "      <td>0.000000</td>\n",
       "    </tr>\n",
       "    <tr>\n",
       "      <th>4.1</th>\n",
       "      <td>46.76</td>\n",
       "      <td>46.78</td>\n",
       "      <td>46.770</td>\n",
       "      <td>0.02</td>\n",
       "      <td>300.0</td>\n",
       "      <td>8200.0</td>\n",
       "      <td>46.779294</td>\n",
       "      <td>-0.010689</td>\n",
       "    </tr>\n",
       "    <tr>\n",
       "      <th>...</th>\n",
       "      <td>...</td>\n",
       "      <td>...</td>\n",
       "      <td>...</td>\n",
       "      <td>...</td>\n",
       "      <td>...</td>\n",
       "      <td>...</td>\n",
       "      <td>...</td>\n",
       "      <td>...</td>\n",
       "    </tr>\n",
       "    <tr>\n",
       "      <th>23395.1</th>\n",
       "      <td>47.43</td>\n",
       "      <td>47.44</td>\n",
       "      <td>47.435</td>\n",
       "      <td>0.01</td>\n",
       "      <td>1758.0</td>\n",
       "      <td>7250.0</td>\n",
       "      <td>47.438048</td>\n",
       "      <td>0.000000</td>\n",
       "    </tr>\n",
       "    <tr>\n",
       "      <th>23396.1</th>\n",
       "      <td>47.43</td>\n",
       "      <td>47.44</td>\n",
       "      <td>47.435</td>\n",
       "      <td>0.01</td>\n",
       "      <td>2300.0</td>\n",
       "      <td>2400.0</td>\n",
       "      <td>47.435106</td>\n",
       "      <td>0.000000</td>\n",
       "    </tr>\n",
       "    <tr>\n",
       "      <th>23397.1</th>\n",
       "      <td>47.44</td>\n",
       "      <td>47.45</td>\n",
       "      <td>47.445</td>\n",
       "      <td>0.01</td>\n",
       "      <td>10522.0</td>\n",
       "      <td>2000.0</td>\n",
       "      <td>47.441597</td>\n",
       "      <td>0.021081</td>\n",
       "    </tr>\n",
       "    <tr>\n",
       "      <th>23398.1</th>\n",
       "      <td>47.44</td>\n",
       "      <td>47.45</td>\n",
       "      <td>47.445</td>\n",
       "      <td>0.01</td>\n",
       "      <td>27999.0</td>\n",
       "      <td>1100.0</td>\n",
       "      <td>47.440378</td>\n",
       "      <td>0.000000</td>\n",
       "    </tr>\n",
       "    <tr>\n",
       "      <th>23399.1</th>\n",
       "      <td>47.43</td>\n",
       "      <td>47.44</td>\n",
       "      <td>47.435</td>\n",
       "      <td>0.01</td>\n",
       "      <td>22258.0</td>\n",
       "      <td>3800.0</td>\n",
       "      <td>47.431458</td>\n",
       "      <td>-0.021077</td>\n",
       "    </tr>\n",
       "  </tbody>\n",
       "</table>\n",
       "<p>23400 rows × 8 columns</p>\n",
       "</div>"
      ],
      "text/plain": [
       "           bid    ask  midprice  spread   askvol   bidvol  microprice  \\\n",
       "0.1      46.73  46.75    46.740    0.02   2995.0    100.0   46.730646   \n",
       "1.1      46.77  46.82    46.795    0.05    500.0     18.0   46.771737   \n",
       "2.1      46.76  46.79    46.775    0.03    400.0    200.0   46.770000   \n",
       "3.1      46.76  46.79    46.775    0.03    474.0  10200.0   46.788668   \n",
       "4.1      46.76  46.78    46.770    0.02    300.0   8200.0   46.779294   \n",
       "...        ...    ...       ...     ...      ...      ...         ...   \n",
       "23395.1  47.43  47.44    47.435    0.01   1758.0   7250.0   47.438048   \n",
       "23396.1  47.43  47.44    47.435    0.01   2300.0   2400.0   47.435106   \n",
       "23397.1  47.44  47.45    47.445    0.01  10522.0   2000.0   47.441597   \n",
       "23398.1  47.44  47.45    47.445    0.01  27999.0   1100.0   47.440378   \n",
       "23399.1  47.43  47.44    47.435    0.01  22258.0   3800.0   47.431458   \n",
       "\n",
       "           return  \n",
       "0.1           NaN  \n",
       "1.1      0.117672  \n",
       "2.1     -0.042740  \n",
       "3.1      0.000000  \n",
       "4.1     -0.010689  \n",
       "...           ...  \n",
       "23395.1  0.000000  \n",
       "23396.1  0.000000  \n",
       "23397.1  0.021081  \n",
       "23398.1  0.000000  \n",
       "23399.1 -0.021077  \n",
       "\n",
       "[23400 rows x 8 columns]"
      ]
     },
     "execution_count": 57,
     "metadata": {},
     "output_type": "execute_result"
    }
   ],
   "source": [
    "secdf"
   ]
  },
  {
   "cell_type": "code",
   "execution_count": 69,
   "id": "4a466bd2-78df-40ea-ba1d-7a2f4fb77a1c",
   "metadata": {
    "tags": []
   },
   "outputs": [
    {
     "data": {
      "text/plain": [
       "2169"
      ]
     },
     "execution_count": 69,
     "metadata": {},
     "output_type": "execute_result"
    }
   ],
   "source": [
    "df['return']=df['midprice'].pct_change()*100\n",
    "non_zero_count1 = (df['return'] != 0).sum()\n",
    "non_zero_count1"
   ]
  },
  {
   "cell_type": "code",
   "execution_count": 70,
   "id": "3d32f276-f44d-4b58-b3cc-6cc03d3789fe",
   "metadata": {
    "tags": []
   },
   "outputs": [],
   "source": [
    "mindf = df.iloc[::600, :]"
   ]
  },
  {
   "cell_type": "code",
   "execution_count": 71,
   "id": "b21aea32-18db-4b9a-8c3c-0948f3c1be53",
   "metadata": {
    "tags": []
   },
   "outputs": [
    {
     "name": "stderr",
     "output_type": "stream",
     "text": [
      "C:\\Users\\evely\\AppData\\Local\\Temp\\ipykernel_19048\\4191481559.py:1: SettingWithCopyWarning: \n",
      "A value is trying to be set on a copy of a slice from a DataFrame.\n",
      "Try using .loc[row_indexer,col_indexer] = value instead\n",
      "\n",
      "See the caveats in the documentation: https://pandas.pydata.org/pandas-docs/stable/user_guide/indexing.html#returning-a-view-versus-a-copy\n",
      "  mindf['return']=mindf['midprice'].pct_change()*100\n"
     ]
    }
   ],
   "source": [
    "mindf['return']=mindf['midprice'].pct_change()*100"
   ]
  },
  {
   "cell_type": "code",
   "execution_count": 72,
   "id": "f8db7916-3a30-4289-b663-32b39a453e32",
   "metadata": {
    "tags": []
   },
   "outputs": [
    {
     "data": {
      "text/plain": [
       "280"
      ]
     },
     "execution_count": 72,
     "metadata": {},
     "output_type": "execute_result"
    }
   ],
   "source": [
    "non_zero_count2 = (mindf['return'] != 0).sum()\n",
    "non_zero_count2"
   ]
  },
  {
   "cell_type": "code",
   "execution_count": 75,
   "id": "0ea75b5e-97d3-4ee0-ac10-52926777feb7",
   "metadata": {
    "tags": []
   },
   "outputs": [
    {
     "data": {
      "image/png": "[encoded data removed]",
      "text/plain": [
       "<Figure size 1500x500 with 1 Axes>"
      ]
     },
     "metadata": {},
     "output_type": "display_data"
    }
   ],
   "source": [
    "from statsmodels.graphics.tsaplots import plot_acf\n",
    "plot_acf(mindf['return'].dropna(), lags=10, alpha=0.05)\n",
    "\n",
    "# Display the plot\n",
    "plt.title('Autocorrelation Function of Returns')\n",
    "plt.xlabel('Lags')\n",
    "plt.ylabel('Autocorrelation')\n",
    "plt.show()"
   ]
  },
  {
   "cell_type": "code",
   "execution_count": null,
   "id": "58a367fd-86d0-4851-b2de-e2ded1146a0e",
   "metadata": {},
   "outputs": [],
   "source": []
  }
 ],
 "metadata": {
  "kernelspec": {
   "display_name": "Python 3 (ipykernel)",
   "language": "python",
   "name": "python3"
  },
  "language_info": {
   "codemirror_mode": {
    "name": "ipython",
    "version": 3
   },
   "file_extension": ".py",
   "mimetype": "text/x-python",
   "name": "python",
   "nbconvert_exporter": "python",
   "pygments_lexer": "ipython3",
   "version": "3.11.4"
  }
 },
 "nbformat": 4,
 "nbformat_minor": 5
}
